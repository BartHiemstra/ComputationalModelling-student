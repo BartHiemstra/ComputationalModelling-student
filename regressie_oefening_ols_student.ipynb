{
 "cells": [
  {
   "cell_type": "markdown",
   "metadata": {},
   "source": [
    "# Lineaire regressie - _ordinary least squares_"
   ]
  },
  {
   "cell_type": "code",
   "execution_count": 1,
   "metadata": {},
   "outputs": [],
   "source": [
    "import numpy as np\n",
    "import pandas as pd\n",
    "import matplotlib.pyplot as plt\n",
    "import matplotlib.patches as patches\n",
    "import seaborn as sns\n",
    "from sklearn import linear_model"
   ]
  },
  {
   "cell_type": "code",
   "execution_count": 2,
   "metadata": {},
   "outputs": [],
   "source": [
    "personen = pd.DataFrame({'lengte': [1.678, 1.755, 1.764, 1.821, 1.809, 1.851, 1.848, 1.902], \n",
    "                         'gewicht': [62.2, 67.2, 72.7, 76.4, 75.2, 81.3, 87.4, 90.4]})"
   ]
  },
  {
   "cell_type": "code",
   "execution_count": 3,
   "metadata": {},
   "outputs": [
    {
     "name": "stdout",
     "output_type": "stream",
     "text": [
      "Pearsons correlatiecoëfficient r = 0.9573607425326734\n"
     ]
    }
   ],
   "source": [
    "r = personen['gewicht'].corr(personen['lengte'])\n",
    "print(f'Pearsons correlatiecoëfficient r = {r}')"
   ]
  },
  {
   "cell_type": "markdown",
   "metadata": {},
   "source": [
    "## Lineaire formule\n",
    "\n",
    "Zoek de _beste_ lineaire formule die het gewicht $y$ voorspelt gegeven lengte $x$ met richtingscoëfficient $a$ en intercept $b$. Je vindt de beste formule door de _sum of squared residuals_ (SSR, de som van het kwadraat van de residuen) te minimaliseren. Maak hiervoor gebruik van de grafiek die hieronder getekend wordt. De verticale rode lijnen representeren het residu bij elke meetwaarde."
   ]
  },
  {
   "cell_type": "code",
   "execution_count": 38,
   "metadata": {},
   "outputs": [],
   "source": [
    "# x-as loopt van minimum van lengte tot maximum van lengte\n",
    "x = np.linspace((personen[['lengte']].min()-.03), personen[['lengte']].max()+.03)"
   ]
  },
  {
   "cell_type": "markdown",
   "metadata": {
    "tags": [
     "student"
    ]
   },
   "source": [
    " "
   ]
  },
  {
   "cell_type": "code",
   "execution_count": 5,
   "metadata": {
    "tags": [
     "student"
    ]
   },
   "outputs": [],
   "source": [
    " "
   ]
  },
  {
   "cell_type": "code",
   "execution_count": 6,
   "metadata": {
    "scrolled": true,
    "tags": [
     "student"
    ]
   },
   "outputs": [],
   "source": [
    " "
   ]
  },
  {
   "cell_type": "code",
   "execution_count": 7,
   "metadata": {
    "tags": [
     "student"
    ]
   },
   "outputs": [],
   "source": [
    " "
   ]
  },
  {
   "cell_type": "code",
   "execution_count": 8,
   "metadata": {},
   "outputs": [],
   "source": [
    "# Geef hier de beste formule\n",
    "a = 1\n",
    "b = 0\n",
    "y = a*x+b"
   ]
  },
  {
   "cell_type": "code",
   "execution_count": 9,
   "metadata": {},
   "outputs": [
    {
     "data": {
      "image/png": "[encoded data removed]",
      "text/plain": [
       "<Figure size 720x720 with 1 Axes>"
      ]
     },
     "metadata": {},
     "output_type": "display_data"
    }
   ],
   "source": [
    "# Make predictions\n",
    "personen['gewicht_voorspeld'] = a * personen[['lengte']] + b \n",
    "personen['residu'] = (personen['gewicht_voorspeld'] - personen['gewicht'])\n",
    "personen['square'] = personen['residu']**2\n",
    "ssr = personen['square'].sum()\n",
    "\n",
    "# Create figure and axes\n",
    "fig, ax = plt.subplots(figsize=(10, 10))\n",
    "\n",
    "plt.title('Sum of squared residuals (SSR): {:.2f}'.format(ssr))\n",
    "plt.xlabel('lengte (cm)')\n",
    "plt.ylabel('gewicht (kg)')\n",
    "\n",
    "ratio = (x.max()-x.min())/(y.max()-y.min())\n",
    "\n",
    "ax.plot(x,y, linewidth=2)\n",
    "ax.scatter(personen['lengte'], personen['gewicht_voorspeld'])\n",
    "ax.scatter(personen['lengte'], personen['gewicht'], c='r')\n",
    "\n",
    "# Create a Rectangle patch\n",
    "for index, persoon in personen.iterrows():\n",
    "    if ssr < 500:\n",
    "        rect = patches.Rectangle((persoon['lengte'], persoon['gewicht']),\n",
    "                                 persoon['residu']*ratio, persoon['residu'],\n",
    "                                 linewidth=1,edgecolor='r', facecolor='r', alpha=.3)\n",
    "        ax.add_patch(rect)\n",
    "        \n",
    "    rect = patches.Rectangle((persoon['lengte'], persoon['gewicht']),\n",
    "                             0.00005, persoon['residu'],\n",
    "                             linewidth=2,edgecolor='r',facecolor='none')\n",
    "    ax.add_patch(rect)\n",
    "\n",
    "plt.show()"
   ]
  },
  {
   "cell_type": "code",
   "execution_count": 10,
   "metadata": {},
   "outputs": [
    {
     "data": {
      "text/html": [
       "<div>\n",
       "<style scoped>\n",
       "    .dataframe tbody tr th:only-of-type {\n",
       "        vertical-align: middle;\n",
       "    }\n",
       "\n",
       "    .dataframe tbody tr th {\n",
       "        vertical-align: top;\n",
       "    }\n",
       "\n",
       "    .dataframe thead th {\n",
       "        text-align: right;\n",
       "    }\n",
       "</style>\n",
       "<table border=\"1\" class=\"dataframe\">\n",
       "  <thead>\n",
       "    <tr style=\"text-align: right;\">\n",
       "      <th></th>\n",
       "      <th>lengte</th>\n",
       "      <th>gewicht</th>\n",
       "      <th>gewicht_linreg</th>\n",
       "      <th>gewicht_voorspeld</th>\n",
       "      <th>residu</th>\n",
       "      <th>square</th>\n",
       "    </tr>\n",
       "  </thead>\n",
       "  <tbody>\n",
       "    <tr>\n",
       "      <th>0</th>\n",
       "      <td>1.678</td>\n",
       "      <td>62.2</td>\n",
       "      <td>60.073627</td>\n",
       "      <td>1.678</td>\n",
       "      <td>-60.522</td>\n",
       "      <td>3662.912484</td>\n",
       "    </tr>\n",
       "    <tr>\n",
       "      <th>1</th>\n",
       "      <td>1.755</td>\n",
       "      <td>67.2</td>\n",
       "      <td>70.213314</td>\n",
       "      <td>1.755</td>\n",
       "      <td>-65.445</td>\n",
       "      <td>4283.048025</td>\n",
       "    </tr>\n",
       "    <tr>\n",
       "      <th>2</th>\n",
       "      <td>1.764</td>\n",
       "      <td>72.7</td>\n",
       "      <td>71.398472</td>\n",
       "      <td>1.764</td>\n",
       "      <td>-70.936</td>\n",
       "      <td>5031.916096</td>\n",
       "    </tr>\n",
       "    <tr>\n",
       "      <th>3</th>\n",
       "      <td>1.821</td>\n",
       "      <td>76.4</td>\n",
       "      <td>78.904474</td>\n",
       "      <td>1.821</td>\n",
       "      <td>-74.579</td>\n",
       "      <td>5562.027241</td>\n",
       "    </tr>\n",
       "    <tr>\n",
       "      <th>4</th>\n",
       "      <td>1.809</td>\n",
       "      <td>75.2</td>\n",
       "      <td>77.324263</td>\n",
       "      <td>1.809</td>\n",
       "      <td>-73.391</td>\n",
       "      <td>5386.238881</td>\n",
       "    </tr>\n",
       "    <tr>\n",
       "      <th>5</th>\n",
       "      <td>1.851</td>\n",
       "      <td>81.3</td>\n",
       "      <td>82.855002</td>\n",
       "      <td>1.851</td>\n",
       "      <td>-79.449</td>\n",
       "      <td>6312.143601</td>\n",
       "    </tr>\n",
       "    <tr>\n",
       "      <th>6</th>\n",
       "      <td>1.848</td>\n",
       "      <td>87.4</td>\n",
       "      <td>82.459949</td>\n",
       "      <td>1.848</td>\n",
       "      <td>-85.552</td>\n",
       "      <td>7319.144704</td>\n",
       "    </tr>\n",
       "    <tr>\n",
       "      <th>7</th>\n",
       "      <td>1.902</td>\n",
       "      <td>90.4</td>\n",
       "      <td>89.570898</td>\n",
       "      <td>1.902</td>\n",
       "      <td>-88.498</td>\n",
       "      <td>7831.896004</td>\n",
       "    </tr>\n",
       "  </tbody>\n",
       "</table>\n",
       "</div>"
      ],
      "text/plain": [
       "   lengte  gewicht  gewicht_linreg  gewicht_voorspeld  residu       square\n",
       "0   1.678     62.2       60.073627              1.678 -60.522  3662.912484\n",
       "1   1.755     67.2       70.213314              1.755 -65.445  4283.048025\n",
       "2   1.764     72.7       71.398472              1.764 -70.936  5031.916096\n",
       "3   1.821     76.4       78.904474              1.821 -74.579  5562.027241\n",
       "4   1.809     75.2       77.324263              1.809 -73.391  5386.238881\n",
       "5   1.851     81.3       82.855002              1.851 -79.449  6312.143601\n",
       "6   1.848     87.4       82.459949              1.848 -85.552  7319.144704\n",
       "7   1.902     90.4       89.570898              1.902 -88.498  7831.896004"
      ]
     },
     "execution_count": 10,
     "metadata": {},
     "output_type": "execute_result"
    }
   ],
   "source": [
    "personen"
   ]
  },
  {
   "cell_type": "code",
   "execution_count": 11,
   "metadata": {
    "tags": [
     "student"
    ]
   },
   "outputs": [],
   "source": [
    " "
   ]
  },
  {
   "cell_type": "code",
   "execution_count": 36,
   "metadata": {},
   "outputs": [
    {
     "data": {
      "text/html": [
       "<div>\n",
       "<style scoped>\n",
       "    .dataframe tbody tr th:only-of-type {\n",
       "        vertical-align: middle;\n",
       "    }\n",
       "\n",
       "    .dataframe tbody tr th {\n",
       "        vertical-align: top;\n",
       "    }\n",
       "\n",
       "    .dataframe thead th {\n",
       "        text-align: right;\n",
       "    }\n",
       "</style>\n",
       "<table border=\"1\" class=\"dataframe\">\n",
       "  <thead>\n",
       "    <tr style=\"text-align: right;\">\n",
       "      <th></th>\n",
       "      <th>lengte</th>\n",
       "      <th>gewicht</th>\n",
       "      <th>gewicht_linreg</th>\n",
       "      <th>gewicht_voorspeld</th>\n",
       "      <th>residu</th>\n",
       "      <th>square</th>\n",
       "      <th>lengte2</th>\n",
       "      <th>lengte3</th>\n",
       "      <th>lengte4</th>\n",
       "      <th>lengte5</th>\n",
       "      <th>lengte6</th>\n",
       "    </tr>\n",
       "  </thead>\n",
       "  <tbody>\n",
       "    <tr>\n",
       "      <th>0</th>\n",
       "      <td>1.678</td>\n",
       "      <td>62.2</td>\n",
       "      <td>60.073627</td>\n",
       "      <td>1.678</td>\n",
       "      <td>-60.522</td>\n",
       "      <td>3662.912484</td>\n",
       "      <td>2.815684</td>\n",
       "      <td>4.724718</td>\n",
       "      <td>7.928076</td>\n",
       "      <td>13.303312</td>\n",
       "      <td>22.322958</td>\n",
       "    </tr>\n",
       "    <tr>\n",
       "      <th>1</th>\n",
       "      <td>1.755</td>\n",
       "      <td>67.2</td>\n",
       "      <td>70.213314</td>\n",
       "      <td>1.755</td>\n",
       "      <td>-65.445</td>\n",
       "      <td>4283.048025</td>\n",
       "      <td>3.080025</td>\n",
       "      <td>5.405444</td>\n",
       "      <td>9.486554</td>\n",
       "      <td>16.648902</td>\n",
       "      <td>29.218823</td>\n",
       "    </tr>\n",
       "    <tr>\n",
       "      <th>2</th>\n",
       "      <td>1.764</td>\n",
       "      <td>72.7</td>\n",
       "      <td>71.398472</td>\n",
       "      <td>1.764</td>\n",
       "      <td>-70.936</td>\n",
       "      <td>5031.916096</td>\n",
       "      <td>3.111696</td>\n",
       "      <td>5.489032</td>\n",
       "      <td>9.682652</td>\n",
       "      <td>17.080198</td>\n",
       "      <td>30.129469</td>\n",
       "    </tr>\n",
       "    <tr>\n",
       "      <th>3</th>\n",
       "      <td>1.821</td>\n",
       "      <td>76.4</td>\n",
       "      <td>78.904474</td>\n",
       "      <td>1.821</td>\n",
       "      <td>-74.579</td>\n",
       "      <td>5562.027241</td>\n",
       "      <td>3.316041</td>\n",
       "      <td>6.038511</td>\n",
       "      <td>10.996128</td>\n",
       "      <td>20.023949</td>\n",
       "      <td>36.463611</td>\n",
       "    </tr>\n",
       "    <tr>\n",
       "      <th>4</th>\n",
       "      <td>1.809</td>\n",
       "      <td>75.2</td>\n",
       "      <td>77.324263</td>\n",
       "      <td>1.809</td>\n",
       "      <td>-73.391</td>\n",
       "      <td>5386.238881</td>\n",
       "      <td>3.272481</td>\n",
       "      <td>5.919918</td>\n",
       "      <td>10.709132</td>\n",
       "      <td>19.372820</td>\n",
       "      <td>35.045431</td>\n",
       "    </tr>\n",
       "    <tr>\n",
       "      <th>5</th>\n",
       "      <td>1.851</td>\n",
       "      <td>81.3</td>\n",
       "      <td>82.855002</td>\n",
       "      <td>1.851</td>\n",
       "      <td>-79.449</td>\n",
       "      <td>6312.143601</td>\n",
       "      <td>3.426201</td>\n",
       "      <td>6.341898</td>\n",
       "      <td>11.738853</td>\n",
       "      <td>21.728617</td>\n",
       "      <td>40.219671</td>\n",
       "    </tr>\n",
       "    <tr>\n",
       "      <th>6</th>\n",
       "      <td>1.848</td>\n",
       "      <td>87.4</td>\n",
       "      <td>82.459949</td>\n",
       "      <td>1.848</td>\n",
       "      <td>-85.552</td>\n",
       "      <td>7319.144704</td>\n",
       "      <td>3.415104</td>\n",
       "      <td>6.311112</td>\n",
       "      <td>11.662935</td>\n",
       "      <td>21.553104</td>\n",
       "      <td>39.830137</td>\n",
       "    </tr>\n",
       "    <tr>\n",
       "      <th>7</th>\n",
       "      <td>1.902</td>\n",
       "      <td>90.4</td>\n",
       "      <td>89.570898</td>\n",
       "      <td>1.902</td>\n",
       "      <td>-88.498</td>\n",
       "      <td>7831.896004</td>\n",
       "      <td>3.617604</td>\n",
       "      <td>6.880683</td>\n",
       "      <td>13.087059</td>\n",
       "      <td>24.891586</td>\n",
       "      <td>47.343796</td>\n",
       "    </tr>\n",
       "  </tbody>\n",
       "</table>\n",
       "</div>"
      ],
      "text/plain": [
       "   lengte  gewicht  gewicht_linreg  gewicht_voorspeld  residu       square  \\\n",
       "0   1.678     62.2       60.073627              1.678 -60.522  3662.912484   \n",
       "1   1.755     67.2       70.213314              1.755 -65.445  4283.048025   \n",
       "2   1.764     72.7       71.398472              1.764 -70.936  5031.916096   \n",
       "3   1.821     76.4       78.904474              1.821 -74.579  5562.027241   \n",
       "4   1.809     75.2       77.324263              1.809 -73.391  5386.238881   \n",
       "5   1.851     81.3       82.855002              1.851 -79.449  6312.143601   \n",
       "6   1.848     87.4       82.459949              1.848 -85.552  7319.144704   \n",
       "7   1.902     90.4       89.570898              1.902 -88.498  7831.896004   \n",
       "\n",
       "    lengte2   lengte3    lengte4    lengte5    lengte6  \n",
       "0  2.815684  4.724718   7.928076  13.303312  22.322958  \n",
       "1  3.080025  5.405444   9.486554  16.648902  29.218823  \n",
       "2  3.111696  5.489032   9.682652  17.080198  30.129469  \n",
       "3  3.316041  6.038511  10.996128  20.023949  36.463611  \n",
       "4  3.272481  5.919918  10.709132  19.372820  35.045431  \n",
       "5  3.426201  6.341898  11.738853  21.728617  40.219671  \n",
       "6  3.415104  6.311112  11.662935  21.553104  39.830137  \n",
       "7  3.617604  6.880683  13.087059  24.891586  47.343796  "
      ]
     },
     "execution_count": 36,
     "metadata": {},
     "output_type": "execute_result"
    }
   ],
   "source": [
    "personen['lengte2'] = personen['lengte']**2\n",
    "personen['lengte3'] = personen['lengte']**3\n",
    "personen['lengte4'] = personen['lengte']**4\n",
    "personen['lengte5'] = personen['lengte']**5\n",
    "personen['lengte6'] = personen['lengte']**6\n",
    "personen"
   ]
  },
  {
   "cell_type": "code",
   "execution_count": null,
   "metadata": {},
   "outputs": [],
   "source": []
  },
  {
   "cell_type": "code",
   "execution_count": 37,
   "metadata": {},
   "outputs": [
    {
     "name": "stdout",
     "output_type": "stream",
     "text": [
      "-35744170760.87895 49707403397.16104 -36854989325.89946 15365818790.477856 -3415674890.2525353 316263979.63828975 10706257240.872782\n"
     ]
    }
   ],
   "source": [
    "reg_pol = linear_model.LinearRegression()\n",
    "reg_pol.fit(personen[['lengte', 'lengte2', 'lengte3', 'lengte4', 'lengte5', 'lengte6']], personen[['gewicht']])\n",
    "#print(f'y = {reg.coef_[0][0]} x + {reg.intercept_[0]}')\n",
    "#personen['gewicht_linreg'] = reg.predict(personen[['lengte']])\n",
    "\n",
    "a1, a2, a3, a4, a5, a6, b = reg_pol.coef_[0][0], reg_pol.coef_[0][1], reg_pol.coef_[0][2], reg_pol.coef_[0][3], reg_pol.coef_[0][4], reg_pol.coef_[0][5], reg_pol.intercept_[0]\n",
    "y_pol = a1*x + a2*x**2 + a3*x**3 + a4*x**4 + a5*x**5 + a6*x**6 + b\n",
    "# geeft ssr = 53.59\n",
    "print(a1, a2, a3, a4, a5, a6, b)"
   ]
  },
  {
   "cell_type": "code",
   "execution_count": 39,
   "metadata": {},
   "outputs": [
    {
     "data": {
      "text/plain": [
       "[<matplotlib.lines.Line2D at 0x140875b5ac8>]"
      ]
     },
     "execution_count": 39,
     "metadata": {},
     "output_type": "execute_result"
    },
    {
     "data": {
      "image/png": "[encoded data removed]",
      "text/plain": [
       "<Figure size 720x720 with 1 Axes>"
      ]
     },
     "metadata": {},
     "output_type": "display_data"
    }
   ],
   "source": [
    "# Create figure and axes\n",
    "fig, ax = plt.subplots(figsize=(10, 10))\n",
    "\n",
    "plt.xlabel('lengte (cm)')\n",
    "plt.ylabel('gewicht (kg)')\n",
    "\n",
    "ax.scatter(personen['lengte'], personen['gewicht'], c='r')\n",
    "ax.plot(x, y_pol, linewidth=2)"
   ]
  },
  {
   "cell_type": "code",
   "execution_count": null,
   "metadata": {},
   "outputs": [],
   "source": []
  }
 ],
 "metadata": {
  "celltoolbar": "Tags",
  "kernelspec": {
   "display_name": "Python 3",
   "language": "python",
   "name": "python3"
  },
  "language_info": {
   "codemirror_mode": {
    "name": "ipython",
    "version": 3
   },
   "file_extension": ".py",
   "mimetype": "text/x-python",
   "name": "python",
   "nbconvert_exporter": "python",
   "pygments_lexer": "ipython3",
   "version": "3.6.5"
  }
 },
 "nbformat": 4,
 "nbformat_minor": 2
}