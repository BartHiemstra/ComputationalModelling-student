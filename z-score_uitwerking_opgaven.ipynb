{
 "cells": [
  {
   "cell_type": "code",
   "execution_count": 1,
   "metadata": {},
   "outputs": [],
   "source": [
    "import numpy as np\n",
    "import matplotlib.pyplot as plt\n",
    "import scipy.stats as stats"
   ]
  },
  {
   "cell_type": "markdown",
   "metadata": {},
   "source": [
    "## Ziekenhuis voorbeeld\n",
    "Toegepaste statistiek, hoofdstuk 6.2"
   ]
  },
  {
   "cell_type": "code",
   "execution_count": 22,
   "metadata": {},
   "outputs": [
    {
     "name": "stdout",
     "output_type": "stream",
     "text": [
      "De kans op wachttijd > 30\n",
      "is 2.28%\n"
     ]
    }
   ],
   "source": [
    "mu = 18    # gemiddelde wachttijd\n",
    "sigma = 6  # standdaarddeviatie\n",
    "wt = 30    # wachttijd gevraagd\n",
    "z = (wt - mu) / sigma   # z-waarde\n",
    "P = stats.norm.cdf(z)   # kans <= 30 minuten\n",
    "Pg30pr = 100*(1-P)       # kans > 30 min. in procent\n",
    "print('De kans op wachttijd > {}'.format(wt))\n",
    "print('is {:.2f}%'.format(Pg30pr))"
   ]
  },
  {
   "cell_type": "markdown",
   "metadata": {},
   "source": [
    "## Hoofdstuk 6.2, opgave 1"
   ]
  },
  {
   "cell_type": "code",
   "execution_count": 38,
   "metadata": {},
   "outputs": [
    {
     "name": "stdout",
     "output_type": "stream",
     "text": [
      "1a: 0.2033\n",
      "1b: 0.8925\n",
      "1c: 0.4834\n",
      "1d: 0.6103\n"
     ]
    }
   ],
   "source": [
    "# a) P(z > 0,83)  = 1 - P(z < 0,83)\n",
    "print('1a: {:.4f}'.format(1 - stats.norm.cdf(0.83)))\n",
    "# b P(z < 1,24) \n",
    "print('1b: {:.4f}'.format(stats.norm.cdf(1.24)))\n",
    "# c P(0 < z < 2.13) = P(z<2.13) - P(z<0)\n",
    "P = stats.norm.cdf(2.13) - stats.norm.cdf(0)\n",
    "print('1c: {:.4f}'.format(P))\n",
    "# d) P(z > -0.28)  = 1 - P(z < -0.28)\n",
    "print('1d: {:.4f}'.format(1 - stats.norm.cdf(-0.28)))"
   ]
  },
  {
   "cell_type": "markdown",
   "metadata": {},
   "source": [
    "## Hoofdstuk 6.2, opgave 2"
   ]
  },
  {
   "cell_type": "code",
   "execution_count": 39,
   "metadata": {},
   "outputs": [
    {
     "name": "stdout",
     "output_type": "stream",
     "text": [
      "De kans op 8 - 10 minuten\n",
      "is 38.29%\n"
     ]
    }
   ],
   "source": [
    "mu = 9     # gemiddelde behandeltijd\n",
    "sigma = 2  # standdaarddeviatie\n",
    "van = 8    # ondergrens\n",
    "tot = 10   # bovengrens\n",
    "\n",
    "zvan = (van - mu) / sigma     # z-waarde\n",
    "Pvan = stats.norm.cdf(zvan)   # kans <= 8 min\n",
    "\n",
    "ztot = (tot - mu) / sigma     # z-waarde\n",
    "Ptot = stats.norm.cdf(ztot)   # kans <= 10 min\n",
    "\n",
    "Pvantot = 100*(Ptot - Pvan)\n",
    "\n",
    "print('De kans op {} - {} minuten'.format(van,tot))\n",
    "print('is {:.2f}%'.format(Pvantot))"
   ]
  },
  {
   "cell_type": "markdown",
   "metadata": {},
   "source": [
    "## Hoofdstuk 6.2, opgave 3"
   ]
  },
  {
   "cell_type": "code",
   "execution_count": 40,
   "metadata": {},
   "outputs": [
    {
     "name": "stdout",
     "output_type": "stream",
     "text": [
      "De kans op score > 105\n",
      "is 69.15%, (z-waarde +0.3333)\n"
     ]
    }
   ],
   "source": [
    "mu = 100     # gemiddelde IQ\n",
    "sigma = 15   # standdaarddeviatie\n",
    "score = 105\n",
    "z = (score - mu) / sigma  # z-waarde\n",
    "P = stats.norm.cdf(zvan)  # kans < 105\n",
    "Ppr = 100*(1 - P)         # kans > 105\n",
    "print('De kans op score > {}'.format(score))\n",
    "print('is {:.2f}%, (z-waarde +{:.4f})'.format(Ppr, z))"
   ]
  },
  {
   "cell_type": "markdown",
   "metadata": {},
   "source": [
    "## Hoofdstuk 6.3, opgave 1"
   ]
  },
  {
   "cell_type": "code",
   "execution_count": 24,
   "metadata": {},
   "outputs": [
    {
     "name": "stdout",
     "output_type": "stream",
     "text": [
      "De kans op inhoud > 34\n",
      "is 36.94%, (z-waarde +0.3333)\n"
     ]
    }
   ],
   "source": [
    "mu = 33    # gemiddelde inhoud\n",
    "sigma = 3  # standdaarddeviatie\n",
    "inh = 34   # inhoud gevraagd\n",
    "z = (inh - mu) / sigma   # z-waarde\n",
    "P = stats.norm.cdf(z)    # kans <= 34 cl\n",
    "Pg30pr = 100*(1-P)       # kans > 34 cl. in procent\n",
    "print('De kans op inhoud > {}'.format(inh))\n",
    "print('is {:.2f}%, (z-waarde +{:.4f})'.format(Pg30pr, z))"
   ]
  },
  {
   "cell_type": "markdown",
   "metadata": {},
   "source": [
    "## Hoofdstuk 6.3, opgave 2a"
   ]
  },
  {
   "cell_type": "code",
   "execution_count": 45,
   "metadata": {},
   "outputs": [
    {
     "name": "stdout",
     "output_type": "stream",
     "text": [
      "Waarde min 25%: 4.50, plus 25%: 7.50\n",
      "De kans op meer dan 25% afwijking\n",
      "is 0.06% (z-waarden: -1.88, 1.88)\n"
     ]
    }
   ],
   "source": [
    "mu = 6.0       # gemiddeld rendement\n",
    "sigma = 0.8  # standdaarddeviatie\n",
    "\n",
    "afwijking = 25  # afwijking van 25%\n",
    "# afwijking meer dan 25% is: minder dan 75% of meer dan 125%\n",
    "r75 = mu * ( 1 - afwijking/100)\n",
    "r125 = mu * ( 1 + afwijking/100 )\n",
    "print('Waarde min 25%: {:.2f}, plus 25%: {:.2f}'.format(r75,r125))\n",
    "\n",
    "z75 = (r75 - mu) / sigma\n",
    "z125 = (r125 - mu) / sigma\n",
    "Pminderdan75 = stats.norm.cdf(z75)\n",
    "Pmeerdan125 = 1-stats.norm.cdf(z125)\n",
    "P = Pminderdan75 + Pmeerdan125\n",
    "\n",
    "print('De kans op meer dan {}% afwijking'.format(afwijking))\n",
    "print('is {:.2f}% (z-waarden: {:.2f}, {:.2f})'.format(P,z75,z125))"
   ]
  },
  {
   "cell_type": "markdown",
   "metadata": {},
   "source": [
    "## Hoofdstuk 6.3, opgave 2b"
   ]
  },
  {
   "cell_type": "code",
   "execution_count": 47,
   "metadata": {},
   "outputs": [
    {
     "name": "stdout",
     "output_type": "stream",
     "text": [
      "De kans op minder dan 4.5% rendement\n",
      "is 3.04% (z-waarde: -1.88)\n"
     ]
    }
   ],
   "source": [
    "mu = 6.0        # gemiddeld rendement\n",
    "sigma = 0.8     # standdaarddeviatie\n",
    "rendement = 4.5 \n",
    "\n",
    "z = (rendement - mu) / sigma\n",
    "Pminder = 100*stats.norm.cdf(z)\n",
    "print('De kans op minder dan {}% rendement'.format(rendement))\n",
    "print('is {:.2f}% (z-waarde: {:.2f})'.format(Pminder,z))"
   ]
  },
  {
   "cell_type": "code",
   "execution_count": null,
   "metadata": {},
   "outputs": [],
   "source": []
  }
 ],
 "metadata": {
  "kernelspec": {
   "display_name": "Python 3",
   "language": "python",
   "name": "python3"
  },
  "language_info": {
   "codemirror_mode": {
    "name": "ipython",
    "version": 3
   },
   "file_extension": ".py",
   "mimetype": "text/x-python",
   "name": "python",
   "nbconvert_exporter": "python",
   "pygments_lexer": "ipython3",
   "version": "3.6.5"
  }
 },
 "nbformat": 4,
 "nbformat_minor": 2
}
