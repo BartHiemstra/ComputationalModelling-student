{
 "cells": [
  {
   "cell_type": "markdown",
   "metadata": {},
   "source": [
    "# Oefening _NumPy_ in les 1"
   ]
  },
  {
   "cell_type": "markdown",
   "metadata": {},
   "source": [
    "Laten we beginnen met het importeren van _NumPy_:"
   ]
  },
  {
   "cell_type": "code",
   "execution_count": 1,
   "metadata": {
    "collapsed": true
   },
   "outputs": [],
   "source": [
    "import numpy"
   ]
  },
  {
   "cell_type": "markdown",
   "metadata": {},
   "source": [
    "Een één-dimensionale array met de getallen 0 tot en met 5:"
   ]
  },
  {
   "cell_type": "code",
   "execution_count": 2,
   "metadata": {},
   "outputs": [
    {
     "data": {
      "text/plain": [
       "array([0, 1, 2, 3, 4, 5])"
      ]
     },
     "execution_count": 2,
     "metadata": {},
     "output_type": "execute_result"
    }
   ],
   "source": [
    "x = numpy.array([0,1,2,3,4,5])\n",
    "x"
   ]
  },
  {
   "cell_type": "markdown",
   "metadata": {},
   "source": [
    "Of zo:"
   ]
  },
  {
   "cell_type": "code",
   "execution_count": 3,
   "metadata": {},
   "outputs": [
    {
     "data": {
      "text/plain": [
       "array([0, 1, 2, 3, 4, 5])"
      ]
     },
     "execution_count": 3,
     "metadata": {},
     "output_type": "execute_result"
    }
   ],
   "source": [
    "x2 = numpy.arange(6)\n",
    "x2"
   ]
  },
  {
   "cell_type": "markdown",
   "metadata": {},
   "source": [
    "De arrays `x` en `x2` hebben dezelfde dimensies:"
   ]
  },
  {
   "cell_type": "code",
   "execution_count": 4,
   "metadata": {},
   "outputs": [
    {
     "name": "stdout",
     "output_type": "stream",
     "text": [
      "De dimensie van x is (6,).\n",
      "De dimensie van x2 is (6,).\n"
     ]
    }
   ],
   "source": [
    "print(\"De dimensie van x is {}.\".format(x.shape))\n",
    "print(\"De dimensie van x2 is {}.\".format(x2.shape))"
   ]
  },
  {
   "cell_type": "markdown",
   "metadata": {},
   "source": [
    "De array omvormen naar twee dimensies:"
   ]
  },
  {
   "cell_type": "code",
   "execution_count": 5,
   "metadata": {},
   "outputs": [
    {
     "data": {
      "text/plain": [
       "array([[0, 1, 2],\n",
       "       [3, 4, 5]])"
      ]
     },
     "execution_count": 5,
     "metadata": {},
     "output_type": "execute_result"
    }
   ],
   "source": [
    "x = numpy.reshape(x, (2,3))\n",
    "x"
   ]
  },
  {
   "cell_type": "markdown",
   "metadata": {},
   "source": [
    "Of laat _NumPy_ de grootte van de tweede dimensie zelf bepalen:"
   ]
  },
  {
   "cell_type": "code",
   "execution_count": 6,
   "metadata": {},
   "outputs": [
    {
     "data": {
      "text/plain": [
       "array([[0, 1, 2],\n",
       "       [3, 4, 5]])"
      ]
     },
     "execution_count": 6,
     "metadata": {},
     "output_type": "execute_result"
    }
   ],
   "source": [
    "x2 = numpy.reshape(x2, (2,-1))\n",
    "x2"
   ]
  },
  {
   "cell_type": "markdown",
   "metadata": {},
   "source": [
    "De dimensies zijn nu als volgt:"
   ]
  },
  {
   "cell_type": "code",
   "execution_count": 7,
   "metadata": {},
   "outputs": [
    {
     "name": "stdout",
     "output_type": "stream",
     "text": [
      "De dimensie van x is (2, 3).\n",
      "De dimensie van x2 is (2, 3).\n"
     ]
    }
   ],
   "source": [
    "print(\"De dimensie van x is {}.\".format(x.shape))\n",
    "print(\"De dimensie van x2 is {}.\".format(x2.shape))"
   ]
  },
  {
   "cell_type": "markdown",
   "metadata": {},
   "source": [
    "En het datatype:"
   ]
  },
  {
   "cell_type": "code",
   "execution_count": 8,
   "metadata": {},
   "outputs": [
    {
     "name": "stdout",
     "output_type": "stream",
     "text": [
      "Het datatype van x is int32.\n",
      "Het datatype van x2 is int32.\n"
     ]
    }
   ],
   "source": [
    "print(\"Het datatype van x is {}.\".format(x.dtype))\n",
    "print(\"Het datatype van x2 is {}.\".format(x2.dtype))"
   ]
  },
  {
   "cell_type": "markdown",
   "metadata": {},
   "source": [
    "Maak een kopie van `x` genaamd `y`:"
   ]
  },
  {
   "cell_type": "code",
   "execution_count": 9,
   "metadata": {},
   "outputs": [
    {
     "data": {
      "text/plain": [
       "array([[0, 1, 2],\n",
       "       [3, 4, 5]])"
      ]
     },
     "execution_count": 9,
     "metadata": {},
     "output_type": "execute_result"
    }
   ],
   "source": [
    "y = x.copy()\n",
    "y"
   ]
  },
  {
   "cell_type": "markdown",
   "metadata": {},
   "source": [
    "**Let op!** `x = y` maakt geen kopie, maar kopieert alleen de _referentie_ naar hetzelfde object. Met andere woorden, `x` en `y` zijn vanaf dat moment twee namen voor _dezelfde_ array:"
   ]
  },
  {
   "cell_type": "code",
   "execution_count": 10,
   "metadata": {},
   "outputs": [
    {
     "name": "stdout",
     "output_type": "stream",
     "text": [
      "x2 =\n",
      " [[99  1  2]\n",
      " [ 3  4  5]]\n",
      "\n",
      "y2 =\n",
      " [[99  1  2]\n",
      " [ 3  4  5]]\n"
     ]
    }
   ],
   "source": [
    "y2 = x2\n",
    "x2[0,0] = 99\n",
    "print(\"x2 =\\n {}\\n\".format(x2))\n",
    "print(\"y2 =\\n {}\".format(y2))"
   ]
  },
  {
   "cell_type": "markdown",
   "metadata": {},
   "source": [
    "Een transpose 'klapt' de matrix om:"
   ]
  },
  {
   "cell_type": "code",
   "execution_count": 11,
   "metadata": {},
   "outputs": [
    {
     "data": {
      "text/plain": [
       "array([[0, 3],\n",
       "       [1, 4],\n",
       "       [2, 5]])"
      ]
     },
     "execution_count": 11,
     "metadata": {},
     "output_type": "execute_result"
    }
   ],
   "source": [
    "x = numpy.transpose(x)\n",
    "x"
   ]
  },
  {
   "cell_type": "markdown",
   "metadata": {},
   "source": [
    "Of zo:"
   ]
  },
  {
   "cell_type": "code",
   "execution_count": 12,
   "metadata": {},
   "outputs": [
    {
     "data": {
      "text/plain": [
       "array([[0, 3],\n",
       "       [1, 4],\n",
       "       [2, 5]])"
      ]
     },
     "execution_count": 12,
     "metadata": {},
     "output_type": "execute_result"
    }
   ],
   "source": [
    "y = y.T\n",
    "y"
   ]
  },
  {
   "cell_type": "markdown",
   "metadata": {},
   "source": [
    "Alle waarden van _y_ verdubbelen:"
   ]
  },
  {
   "cell_type": "code",
   "execution_count": 13,
   "metadata": {},
   "outputs": [
    {
     "data": {
      "text/plain": [
       "array([[ 0,  6],\n",
       "       [ 2,  8],\n",
       "       [ 4, 10]])"
      ]
     },
     "execution_count": 13,
     "metadata": {},
     "output_type": "execute_result"
    }
   ],
   "source": [
    "y = 2 * y\n",
    "y"
   ]
  },
  {
   "cell_type": "markdown",
   "metadata": {},
   "source": [
    "Concateneren kan verticaal en horizontaal:"
   ]
  },
  {
   "cell_type": "code",
   "execution_count": 15,
   "metadata": {},
   "outputs": [
    {
     "name": "stdout",
     "output_type": "stream",
     "text": [
      "z =\n",
      " [[ 0  3]\n",
      " [ 1  4]\n",
      " [ 2  5]\n",
      " [ 0  6]\n",
      " [ 2  8]\n",
      " [ 4 10]]\n",
      "\n",
      "z1 =\n",
      " [[ 0  3  0  6]\n",
      " [ 1  4  2  8]\n",
      " [ 2  5  4 10]]\n",
      "\n",
      "z2 =\n",
      " [[ 0  3  0  6]\n",
      " [ 1  4  2  8]\n",
      " [ 2  5  4 10]]\n"
     ]
    }
   ],
   "source": [
    "z = numpy.vstack((x,y))\n",
    "z1 = numpy.concatenate((x,y),axis=1)\n",
    "z2 = numpy.c_[x,y]\n",
    "\n",
    "print(\"z =\\n {}\\n\".format(z))\n",
    "print(\"z1 =\\n {}\\n\".format(z1))\n",
    "print(\"z2 =\\n {}\".format(z2))"
   ]
  },
  {
   "cell_type": "markdown",
   "metadata": {},
   "source": [
    "Voor het gemiddelde maakt de vorm natuurlijk niet uit:"
   ]
  },
  {
   "cell_type": "code",
   "execution_count": 24,
   "metadata": {},
   "outputs": [
    {
     "name": "stdout",
     "output_type": "stream",
     "text": [
      "Gemiddelde van z is: 3.75\n",
      "Standaarddeviatie van z is: 2.9756\n",
      "\n",
      "Gemiddelde van z1 is: 3.75\n",
      "Standaarddeviatie van z1 is: 2.9756\n"
     ]
    }
   ],
   "source": [
    "print(\"Gemiddelde van z is: {}\".format(z.mean()))\n",
    "print(\"Standaarddeviatie van z is: {:0.4f}\\n\".format(numpy.std(z)))\n",
    "print(\"Gemiddelde van z1 is: {}\".format(z1.mean()))\n",
    "print(\"Standaarddeviatie van z1 is: {:0.4f}\".format(numpy.std(z1)))      "
   ]
  }
 ],
 "metadata": {
  "kernelspec": {
   "display_name": "Python 3",
   "language": "python",
   "name": "python3"
  },
  "language_info": {
   "codemirror_mode": {
    "name": "ipython",
    "version": 3
   },
   "file_extension": ".py",
   "mimetype": "text/x-python",
   "name": "python",
   "nbconvert_exporter": "python",
   "pygments_lexer": "ipython3",
   "version": "3.6.5"
  }
 },
 "nbformat": 4,
 "nbformat_minor": 2
}
