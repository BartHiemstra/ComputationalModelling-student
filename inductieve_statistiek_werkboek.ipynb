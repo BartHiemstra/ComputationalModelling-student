{
 "cells": [
  {
   "cell_type": "markdown",
   "metadata": {
    "slideshow": {
     "slide_type": "slide"
    }
   },
   "source": [
    "Inductieve statistiek\n",
    "===\n",
    "\n",
    "In dit notebook gaan we __steekproeven__ onderzoeken. In het bijzonder zijn we benieuwd hoe steekproeven zich verhouden tot de populatie. Om daar inzicht in te krijgen, gaan we als volgt te werk:\n",
    "\n",
    "1. Hoe ziet de verdeling van een steekproef eruit?\n",
    "2. Is een steekproefgemiddelde representatief voor het populatiegemiddelde; wat is het effect van de steekproefgrootte $n$?\n",
    "3. Wanneer we meerdere steekproeven nemen van dezelfde grootte $n$, hoe ziet de verdeling van deze gemiddeldes er dan uit?\n",
    "4. Wanneer we een steekproefgemiddelde hebben, met wat voor zekerheid kunnen we dan uitspraken doen over het populatiegemiddelde?"
   ]
  },
  {
   "cell_type": "code",
   "execution_count": 1,
   "metadata": {},
   "outputs": [],
   "source": [
    "#Imports en helperfuncties\n",
    "import random\n",
    "from scipy import stats as ss\n",
    "import numpy as np\n",
    "import matplotlib.pyplot as plt\n",
    "import matplotlib as mpl\n",
    "import matplotlib.pylab as pylab\n",
    "\n",
    "%matplotlib inline"
   ]
  },
  {
   "cell_type": "code",
   "execution_count": 2,
   "metadata": {
    "slideshow": {
     "slide_type": "skip"
    }
   },
   "outputs": [],
   "source": [
    "hu_rood = \"#d7000d\"\n",
    "hu_blauw = \"#00a0d2\"\n",
    "mpl.style.use(['seaborn-notebook', 'seaborn-darkgrid'])\n",
    "\n",
    "params = {'xtick.labelsize': 'xx-large', 'ytick.labelsize': 'xx-large', 'figure.titlesize': 'xx-large'}\n",
    "pylab.rcParams.update(params)"
   ]
  },
  {
   "cell_type": "markdown",
   "metadata": {},
   "source": [
    "### 1. Steekproeven\n",
    "\n",
    "\n",
    "Een _Steekproef_ is een __willekeurige__ selectie van een deelverzameling uit een _populatie_. De populatie laat zich beschrijven door een kansverdeling, waarvan we meestal de parameters niet kennen (zoals het gemiddelde of de standaardafwijking). In de praktijk duiken er vele soorten kansverdelingen op, bijv:\n",
    "\n",
    "- De normale verdeling, gespecificeerd door parameters $\\mu$ (gemiddelde) en $\\sigma$ (standaardafwijking)\n",
    "- De uniforme verdeling ( https://nl.wikipedia.org/wiki/Uniforme_verdeling_(continu) ), waarbij de kansdichtheid op een interval overal hetzelfde is. Deze verdeling wordt gespecificeerd door een ondergrens en een bovengrens, die het interval vastlegt.\n",
    "- De Poisson-verdeling ( https://nl.wikipedia.org/wiki/Poissonverdeling ), die de verdeling van wachttijden modelleert, gegeven de parameter $\\lambda$: het gemiddeld aan gebeurtenissen per tijdseenheid.\n",
    "\n",
    "Een hele populatie onderzoeken is in de praktijk vaak onmogelijk (b.v. wat wegen alle huismussen in Nederland) of onbetaalbaar (b.v. peiling op welke partij elke volwassene in Nederland gaat stemmen bij de gemeenteraadsverkiezingen). In zulke gevallen zullen we een steekproef gebruiken om uitspraken te kunnen doen over die gehele populatie. Hoe goed dergelijke uitspraken zijn, dat is het onderzoeksterrein van dit werkboek."
   ]
  },
  {
   "cell_type": "code",
   "execution_count": 3,
   "metadata": {},
   "outputs": [],
   "source": [
    "# functie voor afdrukken verdelingsfuncties\n",
    "def plot_verdeling(verdeling):\n",
    "    fig, ax = plt.subplots(1, 1, figsize=(20, 10))\n",
    "    x = np.linspace(verdeling.ppf(0.001), verdeling.ppf(0.999), 1000)\n",
    "    ax.plot(x, verdeling.pdf(x), 'k-', lw=2, label='frozen pdf')\n",
    "    ax.set_xlim(0, 400)"
   ]
  },
  {
   "cell_type": "markdown",
   "metadata": {
    "slideshow": {
     "slide_type": "slide"
    }
   },
   "source": [
    "Allereerst kiezen we een willekeurige populatieverdeling en gaan we deze plotten.\n",
    "Merk op dat we hier dus veronderstellen dat we de parameters van een populatie kennen, een aanname die in de praktijk uiteraard niet gedaan kan worden, want dit zijn nu juist de statistieken waar we een uitspraak over zouden willen doen.\n",
    "\n",
    "In de volgende cell staan een aantal opties uitgecommentarieerd, dus kies daar één van."
   ]
  },
  {
   "cell_type": "code",
   "execution_count": 4,
   "metadata": {
    "scrolled": true
   },
   "outputs": [
    {
     "ename": "NameError",
     "evalue": "name 'populatie' is not defined",
     "output_type": "error",
     "traceback": [
      "\u001b[1;31m---------------------------------------------------------------------------\u001b[0m",
      "\u001b[1;31mNameError\u001b[0m                                 Traceback (most recent call last)",
      "\u001b[1;32m<ipython-input-4-101131c68682>\u001b[0m in \u001b[0;36m<module>\u001b[1;34m()\u001b[0m\n\u001b[0;32m      7\u001b[0m \u001b[1;31m#populatie = ss.lognorm(1, -1, 100)\u001b[0m\u001b[1;33m\u001b[0m\u001b[1;33m\u001b[0m\u001b[0m\n\u001b[0;32m      8\u001b[0m \u001b[1;33m\u001b[0m\u001b[0m\n\u001b[1;32m----> 9\u001b[1;33m \u001b[0mmu\u001b[0m \u001b[1;33m=\u001b[0m \u001b[0mpopulatie\u001b[0m\u001b[1;33m.\u001b[0m\u001b[0mmean\u001b[0m\u001b[1;33m(\u001b[0m\u001b[1;33m)\u001b[0m\u001b[1;33m\u001b[0m\u001b[0m\n\u001b[0m\u001b[0;32m     10\u001b[0m \u001b[0msigma\u001b[0m \u001b[1;33m=\u001b[0m \u001b[0mpopulatie\u001b[0m\u001b[1;33m.\u001b[0m\u001b[0mstd\u001b[0m\u001b[1;33m(\u001b[0m\u001b[1;33m)\u001b[0m\u001b[1;33m\u001b[0m\u001b[0m\n\u001b[0;32m     11\u001b[0m \u001b[1;33m\u001b[0m\u001b[0m\n",
      "\u001b[1;31mNameError\u001b[0m: name 'populatie' is not defined"
     ]
    }
   ],
   "source": [
    "#Selecteer één van onderstaande populaties om te onderzoeken\n",
    "\n",
    "#populatie = ss.norm(200, 50)\n",
    "#populatie = ss.uniform(0, 400)\n",
    "#populatie = ss.beta(.9, .9, 0, 400)\n",
    "#populatie = ss.chi2(5, 0, 20)\n",
    "#populatie = ss.lognorm(1, -1, 100)\n",
    "\n",
    "mu = populatie.mean()\n",
    "sigma = populatie.std()\n",
    "\n",
    "plot_verdeling(populatie)\n",
    "print(\"Populatiegemiddelde: {:.2f}, standaardafwijking van populatie: {:.2f}\".format(mu, sigma))"
   ]
  },
  {
   "cell_type": "markdown",
   "metadata": {
    "slideshow": {
     "slide_type": "slide"
    }
   },
   "source": [
    "In de praktijk zijn we niet in staat om een dergelijke distributie daadwerkeling via metingen te verkrijgen. In plaats daarvan gebruikt men een **steekproef**: Willekeurig worden $n$ metingen verricht, waaruit men hoopt te kunnen generaliseren naar de populatie (inductie)."
   ]
  },
  {
   "cell_type": "code",
   "execution_count": 5,
   "metadata": {
    "scrolled": true,
    "slideshow": {
     "slide_type": "fragment"
    }
   },
   "outputs": [],
   "source": [
    "# Steekproefgrootte\n",
    "n = 1\n",
    "\n",
    "#Neem een steekproef van grootte n. Gebruik hiervoor de functie rvs ( https://docs.scipy.org/doc/scipy/reference/generated/scipy.stats.rv_continuous.rvs.html )\n",
    "steekproef = None"
   ]
  },
  {
   "cell_type": "code",
   "execution_count": 6,
   "metadata": {},
   "outputs": [
    {
     "ename": "AttributeError",
     "evalue": "'NoneType' object has no attribute 'mean'",
     "output_type": "error",
     "traceback": [
      "\u001b[1;31m---------------------------------------------------------------------------\u001b[0m",
      "\u001b[1;31mAttributeError\u001b[0m                            Traceback (most recent call last)",
      "\u001b[1;32m<ipython-input-6-9fe2efec84ea>\u001b[0m in \u001b[0;36m<module>\u001b[1;34m()\u001b[0m\n\u001b[0;32m      1\u001b[0m \u001b[1;31m#Teken een histogram van de steekproef (neem 100 bins)\u001b[0m\u001b[1;33m\u001b[0m\u001b[1;33m\u001b[0m\u001b[0m\n\u001b[0;32m      2\u001b[0m \u001b[1;33m\u001b[0m\u001b[0m\n\u001b[1;32m----> 3\u001b[1;33m \u001b[0mprint\u001b[0m\u001b[1;33m(\u001b[0m\u001b[1;34m\"Steekproefgemiddelde: {:.2f}, standaardafwijking van steekproef: {:.2f}\"\u001b[0m\u001b[1;33m.\u001b[0m\u001b[0mformat\u001b[0m\u001b[1;33m(\u001b[0m\u001b[0msteekproef\u001b[0m\u001b[1;33m.\u001b[0m\u001b[0mmean\u001b[0m\u001b[1;33m(\u001b[0m\u001b[1;33m)\u001b[0m\u001b[1;33m,\u001b[0m \u001b[0msteekproef\u001b[0m\u001b[1;33m.\u001b[0m\u001b[0mstd\u001b[0m\u001b[1;33m(\u001b[0m\u001b[1;33m)\u001b[0m\u001b[1;33m)\u001b[0m\u001b[1;33m)\u001b[0m\u001b[1;33m\u001b[0m\u001b[0m\n\u001b[0m\u001b[0;32m      4\u001b[0m \u001b[1;33m\u001b[0m\u001b[0m\n\u001b[0;32m      5\u001b[0m \u001b[1;31m# Varieer de steekproefgrootte n, wanneer vind je dat de steekproefverdeling begint te lijken op de populatieverdeling?\u001b[0m\u001b[1;33m\u001b[0m\u001b[1;33m\u001b[0m\u001b[0m\n",
      "\u001b[1;31mAttributeError\u001b[0m: 'NoneType' object has no attribute 'mean'"
     ]
    }
   ],
   "source": [
    "#Teken een histogram van de steekproef (neem 100 bins)\n",
    "\n",
    "print(\"Steekproefgemiddelde: {:.2f}, standaardafwijking van steekproef: {:.2f}\".format(steekproef.mean(), steekproef.std()))\n",
    "\n",
    "# Varieer de steekproefgrootte n, wanneer vind je dat de steekproefverdeling begint te lijken op de populatieverdeling?"
   ]
  },
  {
   "cell_type": "markdown",
   "metadata": {},
   "source": [
    "Het moge duidelijk wezen dat de verdeling van de steekproef aardig overeenkomt met de verdeling van de populatie, waarbij de overeenkomst groter wordt naarmate we _n_ groter maken. We zullen nooit 100% overeenkomst krijgen, omdat de steekproef een **discrete** verdeling is, terwijl de populatie **continu** wordt verondersteld (overigens gelden alle resultaten uit dit notebook ook als de populatie discreet wordt veronderdersteld)."
   ]
  },
  {
   "cell_type": "markdown",
   "metadata": {},
   "source": [
    "### 2. Steekproefgemiddelden vs Populatiegemiddelden\n",
    "\n",
    "In bovenstaande discussie werd de populatieverdeling als bekend verondersteld. We wisten vooraf hoe de meetwaarden verdeeld waren (bijv. uniform of normaal), en bovendien wisten we de parameters van de verdeling (bijv. $\\mu$ en $\\sigma$).\n",
    "\n",
    "In de praktijk is de situatie uiteraard niet zo rooskleurig en gebruiken we de steekproeven nu juist om een inschatting te maken van de populatieverdeling! Bovenstaand proces zou dan dus eigenlijk omgekeerd plaats moeten vinden: We nemen een steekproef en hopen aan de hand van de statistieken over de _steekproef_ (gemiddelde en standaard deviatie) een uitspraak te kunnen doen over de statistieken van de _populatie_.\n",
    "\n",
    "Laten we deze situatie simuleren om te kijken hoe goed de steekproefstatistieken overeenkomen met de populatiestatistieken."
   ]
  },
  {
   "cell_type": "code",
   "execution_count": 7,
   "metadata": {},
   "outputs": [],
   "source": [
    "#Neem steekproeven van oplopende groottes uit een onbekende populatie, bijv. varierend van 5 tot 1000 met stapgrootte 5)\n",
    "groottes = [i for i in range(5, 1005, 5)]\n",
    "steekproeven = None # Maak hier een array met steekproeven"
   ]
  },
  {
   "cell_type": "code",
   "execution_count": 8,
   "metadata": {},
   "outputs": [
    {
     "ename": "TypeError",
     "evalue": "'NoneType' object is not iterable",
     "output_type": "error",
     "traceback": [
      "\u001b[1;31m---------------------------------------------------------------------------\u001b[0m",
      "\u001b[1;31mTypeError\u001b[0m                                 Traceback (most recent call last)",
      "\u001b[1;32m<ipython-input-8-3bc51f1b9c2f>\u001b[0m in \u001b[0;36m<module>\u001b[1;34m()\u001b[0m\n\u001b[0;32m      1\u001b[0m \u001b[1;31m#bereken de afwijking van het gemiddelde en de standaard deviatie per steekproef\u001b[0m\u001b[1;33m\u001b[0m\u001b[1;33m\u001b[0m\u001b[0m\n\u001b[1;32m----> 2\u001b[1;33m \u001b[0mmeans\u001b[0m \u001b[1;33m=\u001b[0m \u001b[1;33m[\u001b[0m\u001b[0msp\u001b[0m\u001b[1;33m.\u001b[0m\u001b[0mmean\u001b[0m\u001b[1;33m(\u001b[0m\u001b[1;33m)\u001b[0m \u001b[1;33m-\u001b[0m \u001b[0mmu\u001b[0m \u001b[1;32mfor\u001b[0m \u001b[0msp\u001b[0m \u001b[1;32min\u001b[0m \u001b[0msteekproeven\u001b[0m\u001b[1;33m]\u001b[0m\u001b[1;33m\u001b[0m\u001b[0m\n\u001b[0m\u001b[0;32m      3\u001b[0m \u001b[0mstds\u001b[0m  \u001b[1;33m=\u001b[0m \u001b[1;33m[\u001b[0m\u001b[0msp\u001b[0m\u001b[1;33m.\u001b[0m\u001b[0mstd\u001b[0m\u001b[1;33m(\u001b[0m\u001b[1;33m)\u001b[0m \u001b[1;33m-\u001b[0m \u001b[0msigma\u001b[0m \u001b[1;32mfor\u001b[0m \u001b[0msp\u001b[0m \u001b[1;32min\u001b[0m \u001b[0msteekproeven\u001b[0m\u001b[1;33m]\u001b[0m\u001b[1;33m\u001b[0m\u001b[0m\n",
      "\u001b[1;31mTypeError\u001b[0m: 'NoneType' object is not iterable"
     ]
    }
   ],
   "source": [
    "#bereken de afwijking van het gemiddelde en de standaard deviatie per steekproef\n",
    "means = [sp.mean() - mu for sp in steekproeven]\n",
    "stds  = [sp.std() - sigma for sp in steekproeven]"
   ]
  },
  {
   "cell_type": "code",
   "execution_count": null,
   "metadata": {},
   "outputs": [],
   "source": [
    "# Plot de afwijking van de populatiegemiddelde (y-as) naar steekproefgrootte (x-as)\n",
    "# Plot ook de afwijking van de std (y-as) naar steekproefgrootte (x-as)  "
   ]
  },
  {
   "cell_type": "markdown",
   "metadata": {},
   "source": [
    "Bovenstaande plot laat redelijk zien dat naarmate de steekproefgrootte toeneemt, de statistieken voor de steekproef steeds beter overeenkomt met de statistieken voor de populatie. Men noemt dit in de statistiek ___De wet van de grote aantallen___ ( https://nl.wikipedia.org/wiki/Wetten_van_de_grote_aantallen )."
   ]
  },
  {
   "cell_type": "markdown",
   "metadata": {},
   "source": [
    "### 3.1 Meerdere herhalingen van de steekproef per grootte $n$\n",
    "\n",
    "Bovenstaande grafiek trekt voor iedere steekproefgrootte een willekeurige steekproef. Deze grafiek is dus per definitie een willekeurige. Wat we graag willen weten is hoe steekproefstatistieken zich _statistisch_ gedragen t.o.v. populatiestatistieken. M.a.w.: wat is de spreiding van de steekproefstatistieken?\n",
    "\n",
    "Om deze vraag te beantwoorden doen we een experiment wat we in werkelijkheid nooit zouden (kunnen) doen: we gaan heel veel steekproeven nemen om te kijken hoe elk van deze steekproeven zich verhoudt tot de kengetallen van de populatie. (Bedenk dat we de populatie normaal dus niet zouden kennen, maar in dit experiment wel - daarom kunnen we de vergelijking maken.) We kunnen deze situatie makkelijk simuleren door per steekproefgrootte niet één, maar bijvoorbeeld $h = 1000$ steekproeven te nemen. Bij iedere steekproefgrootte hoort dan een verzameling aan steekproeven en als we de statistieken (bijv. gemiddelden) hierover middelen, dan krijgen we een verdeling.\n",
    "\n",
    "NB. We zullen ons in deze cursus beperken tot het gedrag van gemiddeldes, omdat dit voldoende inzicht verschaft in het proces.\n",
    "\n",
    "Houd in gedachte dat er nu dus sprake is van 3 \"soorten\" verdelingen per $n$:\n",
    "1. De populatieverdeling (1 maal), hieruit trekken we de steekproeven\n",
    "2. De steekproefverdelingen van grootte $n$ ($h = 1000$ maal)\n",
    "3. De verdeling van het gemiddelde van de steekproeven (1 maal). Iedere steekproef levert 1 gemiddelde, dus deze verdeling bevat $h = 1000$ punten. \n",
    "\n"
   ]
  },
  {
   "cell_type": "code",
   "execution_count": null,
   "metadata": {},
   "outputs": [],
   "source": [
    "h = 1000       # Aantal herhalingen per grootte\n",
    "groottes = [1,2,3,4,9,25,36,49,64,81,100,1000]\n",
    "\n",
    "# Neem h steekproeven per steekproefgrootte n. \n",
    "# Gebruik hiervoor wederom de functie rvs, deze kun je via de size-parameter \n",
    "# een extra dimensie meegeven, zodat er meerdere steekproeven worden uitgevoerd.\n",
    "# (bijv. size=(20, 1000) neemt 1000 steekproeven van grootte 20)\n",
    "steekproeven_hh = np.array([populatie.rvs(size=(g, h)) for g in groottes])\n",
    "\n",
    "# steekproeven_hh bevat nu dus:\n",
    "# 10 arrays: [0] bevat 1000 steekproeven met elk 1 meetwaarde\n",
    "#            [1] bevat 1000 steekproeven met elk 2 meetwaarden\n",
    "#            [2] bevat 1000 steekproeven met elk 3 meetwaarden\n",
    "#            ...\n",
    "#            [10] bevat 1000 steekproeven met elk 100 meetwaarden\n",
    "#            [11] bevat 1000 steekproeven met elk 1000 meetwaarden"
   ]
  },
  {
   "cell_type": "code",
   "execution_count": null,
   "metadata": {},
   "outputs": [],
   "source": [
    "# Bereken de gemiddeldes over elke steekproef\n",
    "gemiddelden = [hh.mean(axis=0) for hh in steekproeven_hh]\n",
    "\n",
    "# gemiddelden bevat nu dus:\n",
    "# 10 arrays: [0] bevat 1000 steekproefgemiddelden, gebaseerd op 1 meetwaarde\n",
    "#            [1] bevat 1000 steekproefgemiddelden, gebaseerd op 2 meetwaarden\n",
    "#            [2] bevat 1000 steekproefgemiddelden, gebaseerd op 4 meetwaarden\n",
    "#            ...\n",
    "#            [10] bevat 1000 steekproefgemiddelden, gebaseerd op 100 meetwaarden\n",
    "#            [11] bevat 1000 steekproefgemiddelden, gebaseerd op 1000 meetwaarden\n"
   ]
  },
  {
   "cell_type": "code",
   "execution_count": null,
   "metadata": {
    "scrolled": false
   },
   "outputs": [],
   "source": [
    "# Plot de populatiegemiddelde per steekproefgrootte (dus meerdere grafieken)\n",
    "\n",
    "plt.figure(figsize=(20,15))\n",
    "for i in range(0, 12):\n",
    "    ax = plt.subplot(3, 4, i+1)\n",
    "    ax.set_xlim(0, 400)\n",
    "    #ax.set_xlim(0.44, 0.56)\n",
    "    plt.hist(gemiddelden[i], bins=100, alpha=0.5)\n",
    "    plt.title(\"n = {}\".format(groottes[i]))"
   ]
  },
  {
   "cell_type": "markdown",
   "metadata": {},
   "source": [
    "Bovenstaande plots laten zien dat de verdeling van de steekproefgemiddeldes normaal verdeeld zijn! Dit resultaat staat bekend als de ___centrale limietstelling___ (https://nl.wikipedia.org/wiki/Centrale_limietstelling, vaak afgekort als CLT, naar de Engelse naam Central Limit Theorem) .\n",
    "\n",
    "De impact deze observatie is groot. We kunnen nu namelijk de volgende gedachtengang hanteren:\n",
    "\n",
    "1. Neem een steekproef $X$\n",
    "2. Bereken steekproefgemiddelde $\\bar{x}$\n",
    "3. Dankzij de CLT weten we nu dat $\\bar{x}$ met grote waarschijnlijk dicht bij de populatiegemiddelde $\\sigma$ ligt.\n",
    "\n",
    "Bovenstaande redenatie is nog niet helemaal compleet. Allereerst missen we nog wat de standaardafwijking is voor de normale verdeling. Ten tweede is het begrip \"grote waarschijnlijk\" nog niet heel concreet. Het eerste probleem behandelen we in de volgende subsectie (3.2), het tweede probleem in de volgende sectie (4)."
   ]
  },
  {
   "cell_type": "markdown",
   "metadata": {},
   "source": [
    "### 3.2 De standaardafwijking van het steekproefgemiddelde: _standaardafwijking (van het gemiddelde)_\n",
    "\n",
    "We hebben nu experimenteel aangetoond dat het steekproefgemiddelde $\\bar{x}$ normaal verdeeld is met gemiddelde $\\mu$ (vanwege de Wet van de grote aantallen).\n",
    "\n",
    "Om de Normale verdeling van het steekproefgemiddelde voor een grootte $n$ vast te kunnen leggen, hebben we echter nog tweede parameter nodig, namelijk $\\sigma$.\n",
    "\n",
    "Om inzicht te krijgen hierin, zullen we per steekproefgrootte $n$ de STD van de gemiddeldes plotten."
   ]
  },
  {
   "cell_type": "code",
   "execution_count": null,
   "metadata": {},
   "outputs": [],
   "source": [
    "gemiddelden_std = None"
   ]
  },
  {
   "cell_type": "code",
   "execution_count": null,
   "metadata": {},
   "outputs": [],
   "source": [
    "# Plot de standaardafwijking van de steekproefgemiddelden (y-as) naar\n",
    "# steekproefgrootte (x-as)\n",
    "\n",
    "# Laat in de grafiek zien dat deze standaardafwijking overeenkomt met\n",
    "# het populatiegemiddelde gedeeld door de wortel uit de steekproefgrootte,\n",
    "# met andere woorden: sigma/np.sqrt(n)"
   ]
  },
  {
   "cell_type": "markdown",
   "metadata": {},
   "source": [
    "We noemen de standaardafwijking van de steekproefgemiddeldes de __standaardfout van het (steekproef)gemiddelde__ en noteren dit met $\\sigma_{\\bar{x}}$ of $se$ (naar het Engelse _standard error_). \n",
    "\n",
    "We hebben nu experimenteel vastgesteld dat $\\sigma_{\\bar{x}}$ gerelateerd is aan de standaardafwijking van de populatie $\\sigma$ via:\n",
    "\n",
    "$\\sigma_{\\bar{x}} = \\frac{\\sigma}{\\sqrt{n}}$\n",
    "\n",
    "In de praktijk hebben we vaak geen kennis van de populatie-standaardafwijking $\\sigma$, dus zullen we gebruik maken van de steekproef-standaardafwijking (notatie $s$). De formule wordt dan:\n",
    "\n",
    "$\\sigma_{\\bar{x}} = \\frac{s}{\\sqrt{n}}$\n",
    "\n"
   ]
  },
  {
   "cell_type": "markdown",
   "metadata": {},
   "source": [
    "### 4. Betrouwbaarheid van het populatiegemiddelde\n",
    "\n",
    "De conclusies tot dusver zijn dat de verdeling van een steekproefgemiddelde normaal verdeeld is (CLT), waarbij de parameters $\\mu$ en $\\sigma$ gegeven worden door het populatiegemiddelde (Wet van de grote aantallen) en de standaardafwijking van de populatie gedeeld door de wortel van de steekproefgrootte (standaardfout of _standaard error_).\n",
    "\n",
    "Dankzij dit inzicht kunnen we nu uitspraken doen over hoeveel vertrouwen we hebben in het gebruik van een steekproefgemiddelde $\\bar{x}$ ter benadering voor het (vaak onbekende) populatiegemiddelde $\\mu$.\n",
    "\n",
    "Deze redenatie verloopt als volgt:\n",
    "\n",
    "1. Stel, we hebben een populatie met onbekende gemiddelde $\\mu$ en standaardafwijking $\\sigma$.\n",
    "2. We nemen een steekproef $X$.\n",
    "3. We bepalen de steekproefstatistieken, namelijk het gemiddelde $\\bar{x}$ en de standaardafwijking $s$.\n",
    "4. De CLT vertelt ons dat $\\bar{x}$ normaal verdeeld is met gemiddelde $\\mu$ (die we niet weten) en standaardafwijking (standaardfout) $se = \\frac{s}{\\sqrt{n}}$ (we gebruiken $s$ als benadering voor  $\\sigma$)\n",
    "5. Dankzij de 68-95-99.7 regel voor Normale verdelingen kunnen we nu uitspraken doen als:\n",
    "De kans dat $\\bar{x}$ binnen 1 standaardafwijking (de standaardfout) van $\\mu$ afligt is gelijk 68.3%.\n",
    "\n",
    "(Merk op dat de standaardafwijking van de normale verdeling van steekproefgemiddeldes per definitie gelijk is aan de standaardfout.)\n",
    "\n",
    "Bovenstaande redenatie vertelt ons dat we dus dankzij de CLT in staat zijn om uitspraken te doen over hoe zeker we zijn dat $\\bar{x}$ in de buurt van $\\mu$ ligt. Het fijne aan stap 5 is echter dat we deze ook andersoms kunnen doen: ALS $\\bar{x}$ binnen 1 SE van $\\mu$ ligt, DAN ligt $\\mu$ ook binnen 1 SE van $\\bar{x}$! Via deze redenatie zijn we dus in staat om uitspraken doen over het populatiegemiddelde, wanneer we het steekproefgemiddelde weten.\n",
    "\n",
    "Dergelijke uitspraken doen we via ___betrouwbaarheidsintervallen___. Bovenstaande uitspraak zouden we dan als volgt formuleren:\n",
    "\n",
    "\"De 68.3% betrouwbaarheidsinterval voor het populatiegemiddelde ligt binnen 1 SE van het steekproefgemiddelde.\"\n",
    "We kunnen deze uitspraken ook in formulevorm schrijven:\n",
    "De 68.3% betrouwbaarheidsinterval: $\\bar{x} \\pm 1se$ .\n",
    "\n",
    "Voor een 95.5% betrouwbaarheidsinterval zou gelden:\n",
    "De 95.5% betrouwbaarheidsinterval: $\\bar{x} \\pm 2se$ .\n",
    "\n",
    "In de praktijk hebben we natuurlijk vaste getallen voor $\\bar{x}$ en $se$.\n",
    "\n",
    "Veelvoorkomende betrouwbaarheidsintervallen:\n",
    "\n",
    "z    | betrouwbaarheid\n",
    "-----|---\n",
    "1    | 68,3%\n",
    "1.64 | 90%\n",
    "1.96 | 95%\n",
    "2    | 95,5%\n",
    "2.58 | 99%\n",
    "3    | 99,7%\n",
    "\n"
   ]
  },
  {
   "cell_type": "code",
   "execution_count": null,
   "metadata": {},
   "outputs": [],
   "source": []
  }
 ],
 "metadata": {
  "celltoolbar": "Slideshow",
  "kernelspec": {
   "display_name": "Python 3",
   "language": "python",
   "name": "python3"
  },
  "language_info": {
   "codemirror_mode": {
    "name": "ipython",
    "version": 3
   },
   "file_extension": ".py",
   "mimetype": "text/x-python",
   "name": "python",
   "nbconvert_exporter": "python",
   "pygments_lexer": "ipython3",
   "version": "3.6.4"
  }
 },
 "nbformat": 4,
 "nbformat_minor": 1
}
