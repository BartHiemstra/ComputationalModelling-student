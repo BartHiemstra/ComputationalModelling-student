{
 "cells": [
  {
   "cell_type": "markdown",
   "metadata": {},
   "source": [
    "<small><i>Dit document bevat een voorbeeld van het uitwerken van een datascience opdracht.</i></small>\n"
   ]
  },
  {
   "cell_type": "markdown",
   "metadata": {},
   "source": [
    "# Verwachte aantal studenten\n",
    "Een onderzoek naar het verwacht aantal studenten bij de opleiding HBO-ICT te Utrecht voor de jaren 2017, 2018 en 2019.\n",
    "\n",
    "Auteur: D.O. Cent\n",
    "\n",
    "Datum: 01/02/2017"
   ]
  },
  {
   "cell_type": "markdown",
   "metadata": {},
   "source": [
    "## Opdracht\n",
    "De opdracht is het bepalen van het verwachte aantal studenten van de opleiding HU HBO-ICT voor de komende drie jaar.\n",
    "### Aanleiding\n",
    "De reden om deze opdracht te verstrekken is dat het management een inschatting wil maken over het aantal benodigde docenten. Jaarlijks moet hiervan een drie jarige planning aan de directie verstrekt worden.\n",
    "### Doelstelling\n",
    "De doelstelling is om de verwachte aantallen studenten voor de komende drie jaar zo nauwkeurig mogelijk te bepalen. Basis voor deze cijfers zijn de cijfers van landelijke aantallen studenten van de afgelopen vijf jaar. Er mag vanuit gegaan worden dat landelijke trend aan HBO-ICT studenten ook geldt voor de opleiding HBO-ICT te Utrecht. \n",
    "### N.B. Aanname\n",
    "<i>De aanname bij deze opdracht is dat er bij de HBO-ICT alleen over het jaar 2014 cijfers van aantallen studenten bekend zijn. De voorgaande jaren worden als niet bekend verondersteld. Dit is niet de werkelijkheid.</i>"
   ]
  },
  {
   "cell_type": "markdown",
   "metadata": {},
   "source": [
    "## Data verzamelen\n",
    "Om de opdracht uit te voeren zijn de volgende gegevens nodig:\n",
    "- Landelijke studentencijfers van de afgelopen vijf jaar.\n",
    "- Het aantal HBO-ICT studenten op het startmoment.\n",
    "\n",
    "### Landelijke studentencijfers\n",
    "De landelijke cijfers van aantallen studenten worden verzameld door het CBS: http://statline.cbs.nl/Statweb. Uit de verzameling \"Hoger onderwijs; ingeschrevenen, studierichting, leeftijd\" is het CSV bestand: **HO-inschrijvingen.csv** aangemaakt.\n",
    "\n",
    "### Aantal HBO-ICT studenten\n",
    "Het aantal HBO-ICT studenten van het leerjaar 2014 is: **1629** (Volgens opgave van van de studentenadminstratie)"
   ]
  },
  {
   "cell_type": "code",
   "execution_count": 1,
   "metadata": {},
   "outputs": [],
   "source": [
    "# Vastellen startcijfer HBO-ICT\n",
    "hboict2014 = 1629"
   ]
  },
  {
   "cell_type": "markdown",
   "metadata": {},
   "source": [
    "## Data bewerken\n",
    "De aangeleverde gegevens in het CSV databestand dienen omgevormd te worden tot een bruikbare vorm: een dataframe.\n",
    "\n",
    "<small><i>Hiervoor maken we gebruik van de Python Pandas bibliotheek.</i></small>"
   ]
  },
  {
   "cell_type": "markdown",
   "metadata": {},
   "source": [
    "Een eerste inventarisatie van het bestand met notepad++ toont ons:\n",
    "\n",
    "Hieruit is te halen dat de relevante gegevens zich op rij 6: Perioden en rij: 10 bevinden. Ook zien we dat het scheidingsteken tussen de gegevens een puntkomma (;) is en dat elk gegeven voorzien is van quotes. \n"
   ]
  },
  {
   "cell_type": "code",
   "execution_count": 2,
   "metadata": {},
   "outputs": [],
   "source": [
    "import pandas as pd"
   ]
  },
  {
   "cell_type": "code",
   "execution_count": 3,
   "metadata": {},
   "outputs": [
    {
     "data": {
      "text/html": [
       "<div>\n",
       "<style scoped>\n",
       "    .dataframe tbody tr th:only-of-type {\n",
       "        vertical-align: middle;\n",
       "    }\n",
       "\n",
       "    .dataframe tbody tr th {\n",
       "        vertical-align: top;\n",
       "    }\n",
       "\n",
       "    .dataframe thead th {\n",
       "        text-align: right;\n",
       "    }\n",
       "</style>\n",
       "<table border=\"1\" class=\"dataframe\">\n",
       "  <thead>\n",
       "    <tr style=\"text-align: right;\">\n",
       "      <th></th>\n",
       "      <th>0</th>\n",
       "      <th>1</th>\n",
       "      <th>2</th>\n",
       "      <th>3</th>\n",
       "      <th>4</th>\n",
       "      <th>5</th>\n",
       "      <th>6</th>\n",
       "    </tr>\n",
       "  </thead>\n",
       "  <tbody>\n",
       "    <tr>\n",
       "      <th>0</th>\n",
       "      <td>Perioden</td>\n",
       "      <td>2010/'11</td>\n",
       "      <td>2011/'12</td>\n",
       "      <td>2012/'13</td>\n",
       "      <td>2013/'14</td>\n",
       "      <td>2014/'15</td>\n",
       "      <td>2015/'16*</td>\n",
       "    </tr>\n",
       "    <tr>\n",
       "      <th>1</th>\n",
       "      <td>Waarde</td>\n",
       "      <td>19188</td>\n",
       "      <td>20449</td>\n",
       "      <td>21498</td>\n",
       "      <td>23509</td>\n",
       "      <td>25128</td>\n",
       "      <td>-</td>\n",
       "    </tr>\n",
       "  </tbody>\n",
       "</table>\n",
       "</div>"
      ],
      "text/plain": [
       "          0         1         2         3         4         5          6\n",
       "0  Perioden  2010/'11  2011/'12  2012/'13  2013/'14  2014/'15  2015/'16*\n",
       "1    Waarde     19188     20449     21498     23509     25128          -"
      ]
     },
     "execution_count": 3,
     "metadata": {},
     "output_type": "execute_result"
    }
   ],
   "source": [
    "# read csv file\n",
    "# zie: http://pandas.pydata.org/pandas-docs/version/0.17.0/io.html#io-read-csv-table\n",
    "df = pd.read_csv('introductie_HBO-ICT.csv', sep=\";\", quoting=1, quotechar='\"', skiprows=[0,1,2,3,4,6,7,8], header=None, engine='python')\n",
    "\n",
    "# Tonen van de ingelezen inhoud:\n",
    "df"
   ]
  },
  {
   "cell_type": "markdown",
   "metadata": {},
   "source": [
    "### Data Mungling"
   ]
  },
  {
   "cell_type": "markdown",
   "metadata": {},
   "source": [
    "De ingelezen data moeten nu omgevormd worden naar een bruikbaar formaat: per jaartal het aantal inschrijvingen."
   ]
  },
  {
   "cell_type": "code",
   "execution_count": 4,
   "metadata": {
    "scrolled": true
   },
   "outputs": [
    {
     "data": {
      "text/html": [
       "<div>\n",
       "<style scoped>\n",
       "    .dataframe tbody tr th:only-of-type {\n",
       "        vertical-align: middle;\n",
       "    }\n",
       "\n",
       "    .dataframe tbody tr th {\n",
       "        vertical-align: top;\n",
       "    }\n",
       "\n",
       "    .dataframe thead th {\n",
       "        text-align: right;\n",
       "    }\n",
       "</style>\n",
       "<table border=\"1\" class=\"dataframe\">\n",
       "  <thead>\n",
       "    <tr style=\"text-align: right;\">\n",
       "      <th></th>\n",
       "      <th>Jaar</th>\n",
       "      <th>Aantal</th>\n",
       "    </tr>\n",
       "  </thead>\n",
       "  <tbody>\n",
       "    <tr>\n",
       "      <th>1</th>\n",
       "      <td>2010</td>\n",
       "      <td>19188</td>\n",
       "    </tr>\n",
       "    <tr>\n",
       "      <th>2</th>\n",
       "      <td>2011</td>\n",
       "      <td>20449</td>\n",
       "    </tr>\n",
       "    <tr>\n",
       "      <th>3</th>\n",
       "      <td>2012</td>\n",
       "      <td>21498</td>\n",
       "    </tr>\n",
       "    <tr>\n",
       "      <th>4</th>\n",
       "      <td>2013</td>\n",
       "      <td>23509</td>\n",
       "    </tr>\n",
       "    <tr>\n",
       "      <th>5</th>\n",
       "      <td>2014</td>\n",
       "      <td>25128</td>\n",
       "    </tr>\n",
       "  </tbody>\n",
       "</table>\n",
       "</div>"
      ],
      "text/plain": [
       "   Jaar  Aantal\n",
       "1  2010   19188\n",
       "2  2011   20449\n",
       "3  2012   21498\n",
       "4  2013   23509\n",
       "5  2014   25128"
      ]
     },
     "execution_count": 4,
     "metadata": {},
     "output_type": "execute_result"
    }
   ],
   "source": [
    "# alleen de kolommen 1 t/m 5 overnemen:\n",
    "df = df[[1,2,3,4,5]]\n",
    "# Rijen en kolommen verwisselen:\n",
    "df = df.T\n",
    "# Kolomnamen wijzigen:\n",
    "df.columns=['Jaar','Aantal']\n",
    "# Jaar: omvormen naar jaartal\n",
    "df['Jaar'] = df['Jaar'].str[0:4]\n",
    "# Jaar: omvormen naar numerieke waarde\n",
    "df['Jaar'] = df['Jaar'].astype(int)\n",
    "# Aantal: omvormen naar numerieke waarde\n",
    "df['Aantal'] = df['Aantal'].astype(int) \n",
    "# toon omgevormde waarde\n",
    "df"
   ]
  },
  {
   "cell_type": "markdown",
   "metadata": {},
   "source": [
    "## Data analyseren\n",
    "Allereerst maken we een kleine analyse van de cijfers. Hiervoor berekenen we o.a. het gemiddelde."
   ]
  },
  {
   "cell_type": "code",
   "execution_count": 5,
   "metadata": {},
   "outputs": [
    {
     "data": {
      "text/html": [
       "<div>\n",
       "<style scoped>\n",
       "    .dataframe tbody tr th:only-of-type {\n",
       "        vertical-align: middle;\n",
       "    }\n",
       "\n",
       "    .dataframe tbody tr th {\n",
       "        vertical-align: top;\n",
       "    }\n",
       "\n",
       "    .dataframe thead th {\n",
       "        text-align: right;\n",
       "    }\n",
       "</style>\n",
       "<table border=\"1\" class=\"dataframe\">\n",
       "  <thead>\n",
       "    <tr style=\"text-align: right;\">\n",
       "      <th></th>\n",
       "      <th>Aantal</th>\n",
       "    </tr>\n",
       "  </thead>\n",
       "  <tbody>\n",
       "    <tr>\n",
       "      <th>count</th>\n",
       "      <td>5.000000</td>\n",
       "    </tr>\n",
       "    <tr>\n",
       "      <th>mean</th>\n",
       "      <td>21954.400000</td>\n",
       "    </tr>\n",
       "    <tr>\n",
       "      <th>std</th>\n",
       "      <td>2377.815026</td>\n",
       "    </tr>\n",
       "    <tr>\n",
       "      <th>min</th>\n",
       "      <td>19188.000000</td>\n",
       "    </tr>\n",
       "    <tr>\n",
       "      <th>25%</th>\n",
       "      <td>20449.000000</td>\n",
       "    </tr>\n",
       "    <tr>\n",
       "      <th>50%</th>\n",
       "      <td>21498.000000</td>\n",
       "    </tr>\n",
       "    <tr>\n",
       "      <th>75%</th>\n",
       "      <td>23509.000000</td>\n",
       "    </tr>\n",
       "    <tr>\n",
       "      <th>max</th>\n",
       "      <td>25128.000000</td>\n",
       "    </tr>\n",
       "  </tbody>\n",
       "</table>\n",
       "</div>"
      ],
      "text/plain": [
       "             Aantal\n",
       "count      5.000000\n",
       "mean   21954.400000\n",
       "std     2377.815026\n",
       "min    19188.000000\n",
       "25%    20449.000000\n",
       "50%    21498.000000\n",
       "75%    23509.000000\n",
       "max    25128.000000"
      ]
     },
     "execution_count": 5,
     "metadata": {},
     "output_type": "execute_result"
    }
   ],
   "source": [
    "df.describe()[['Aantal']]"
   ]
  },
  {
   "cell_type": "markdown",
   "metadata": {},
   "source": [
    "In bovenstaande lijst zien we o.a. dat er 5 meetwaarden zijn en wat het gemiddelde (mean) en standaarddeviatie (std) is.\n",
    "\n",
    "\n",
    "Om meer inzicht te krijgen in de data geven we deze eerst in grafiekvorm weer.\n",
    "\n",
    "<small><i>Hiervoor maken we gebruik van Python Matplotlib bibliotheek</i></small>"
   ]
  },
  {
   "cell_type": "code",
   "execution_count": 6,
   "metadata": {},
   "outputs": [],
   "source": [
    "# importeren van de plot bibliotheek\n",
    "import matplotlib.pyplot as plt\n",
    "\n",
    "# laat de output verschijnen in het notebook\n",
    "%matplotlib inline"
   ]
  },
  {
   "cell_type": "code",
   "execution_count": 7,
   "metadata": {},
   "outputs": [
    {
     "data": {
      "text/plain": [
       "[<matplotlib.lines.Line2D at 0x24402f9c978>]"
      ]
     },
     "execution_count": 7,
     "metadata": {},
     "output_type": "execute_result"
    },
    {
     "data": {
      "image/png": "[encoded data removed]",
      "text/plain": [
       "<Figure size 432x288 with 1 Axes>"
      ]
     },
     "metadata": {},
     "output_type": "display_data"
    }
   ],
   "source": [
    "# Opbouwen van de grafiek\n",
    "\n",
    "# X as lablel\n",
    "plt.xlabel('Jaartal + 2009')\n",
    "# minimale en maximale X-as waarde\n",
    "plt.xlim(2009, 2015)\n",
    "# minimale en maximale Y-as waarde\n",
    "plt.ylim(15000, 30000)\n",
    "\n",
    "# Tonen van de grafiek\n",
    "plt.plot(df['Jaar'],df['Aantal'], linestyle='--',\n",
    "        marker='*', markerfacecolor='blue', markersize=12)"
   ]
  },
  {
   "cell_type": "markdown",
   "metadata": {},
   "source": [
    "In de grafiek zien we dat er jaarlijks een kleine toename is van het aantal studenten.\n"
   ]
  },
  {
   "cell_type": "markdown",
   "metadata": {},
   "source": [
    "## Data modelleren\n",
    "Vanuit de data per jaar van de jaren 2010 t/m 2014 willen een formule hebben waarmee we kunnen voorspellen wat de aantallen studenten zouden kunnen zijn in 2016, 2017 en 2018 als er verder geen veranderingen optreden.\n",
    "\n",
    "Een methode die dit kan heet regressie. Omdat er hier sprake is van maar 1 variable (JAAR) en 1 uitkomst (AANTAL) wordt dit ook wel \"simpel regression\" genoemd. Omdat er sprake is van een vrijwel rechte lijn tussen de punten kunnen we gebruik maken van lineaire regressie.\n",
    "\n",
    "Deze methode is aanwezig in de scikit-learn bibliotheek.\n",
    "\n",
    "TODO: https://github.com/justmarkham/DAT4/blob/master/notebooks/08_linear_regression.ipynb \n",
    "\n"
   ]
  },
  {
   "cell_type": "code",
   "execution_count": 8,
   "metadata": {},
   "outputs": [
    {
     "name": "stdout",
     "output_type": "stream",
     "text": [
      "De formule is: Aantal leerlingen = -2983973.6 + 1494.0 * Jaartal \n"
     ]
    }
   ],
   "source": [
    "# importeer de bibliotheek\n",
    "from sklearn import linear_model\n",
    "\n",
    "# Scikit-learn verwacht alleen nummerieke waarden, dus Jaar ook omzetten\n",
    "df['Jaar'] = df['Jaar'].astype(int)\n",
    "\n",
    "# Scikit-learn verwacht 1 of meerdere variabelen in de vorm van een dataframe:\n",
    "X = df[['Jaar']]\n",
    "\n",
    "# Scikit-learn verwacht de uitkomstwaarden als lijst\n",
    "y = df.Aantal\n",
    "\n",
    "# Scikit-learn: maken van het lineare regressie model\n",
    "lm = linear_model.LinearRegression()\n",
    "# berekenen van de formule\n",
    "lm.fit(X, y)\n",
    "\n",
    "# bepaling van de coëefficiënten van de formule\n",
    "constante = lm.intercept_\n",
    "jaarfactor = lm.coef_[0]\n",
    "\n",
    "print('De formule is: Aantal leerlingen = {0:.1f} + {1:.1f} * Jaartal '.format(constante,jaarfactor))\n"
   ]
  },
  {
   "cell_type": "markdown",
   "metadata": {},
   "source": [
    "### Controle\n",
    "De formule controleren we op een waarde.\n",
    "Hierna bepalen we de foutenmarge van de formule uit de berekende waarden ten opzichte van de werkelijke waarde."
   ]
  },
  {
   "cell_type": "code",
   "execution_count": 9,
   "metadata": {},
   "outputs": [
    {
     "name": "stdout",
     "output_type": "stream",
     "text": [
      "Controle voor 2010: 18966\n",
      "Dit ligt heel dicht bij de werkelijke waarde: 19188\n",
      "\n",
      "De score van 0.987 (op een maximum van 1.0) geeft aan dat de formule nauwkeurig is.\n"
     ]
    }
   ],
   "source": [
    "# Controle voor 2010\n",
    "\n",
    "# werkelijke waarde van 2010\n",
    "werk2010 = df.loc[1]['Aantal']\n",
    "# berekene waarde in 2010\n",
    "ber2010 = constante + (jaarfactor * 2010)\n",
    "\n",
    "#afdrukken\n",
    "print('Controle voor 2010: {0:.0f}'.format(ber2010) )\n",
    "print('Dit ligt heel dicht bij de werkelijke waarde: {0:.0f}'.format(werk2010))\n",
    "print('')\n",
    "\n",
    "# Controle van de fout (R-Squared)\n",
    "score = lm.score(X, y)\n",
    "print(\"De score van {0:.3f} (op een maximum van 1.0) geeft aan dat de formule nauwkeurig is.\".format(score,100.0*score))"
   ]
  },
  {
   "cell_type": "markdown",
   "metadata": {},
   "source": [
    "### Voorspellen\n",
    "Vanuit de formule kunnen we nu een voorspelling doen voor de jaren voorbij 2014.\n",
    "\n",
    "Deze controleren we dan met behulp van een grafiek.\n"
   ]
  },
  {
   "cell_type": "code",
   "execution_count": 10,
   "metadata": {},
   "outputs": [],
   "source": [
    "# bepaal een voorspelling\n",
    "jaren = {'Jaar' : [ 2010, 2011, 2012, 2013, 2014, 2015, 2016, 2017, 2018, 2019]}\n",
    "\n",
    "pX = pd.DataFrame(jaren)\n",
    "\n",
    "voorspelling = lm.predict(pX)"
   ]
  },
  {
   "cell_type": "code",
   "execution_count": 11,
   "metadata": {},
   "outputs": [
    {
     "data": {
      "image/png": "[encoded data removed]",
      "text/plain": [
       "<Figure size 432x288 with 1 Axes>"
      ]
     },
     "metadata": {},
     "output_type": "display_data"
    }
   ],
   "source": [
    "# Controle met grafiek\n",
    "plt.xlabel('Jaartal')\n",
    "plt.xlim(2009, 2020)\n",
    "plt.ylim(15000, 35000)\n",
    "plt.plot(df['Jaar'],df['Aantal'], linestyle='--',\n",
    "        marker='*', markerfacecolor='blue', markersize=12)\n",
    "plt.plot(pX['Jaar'],voorspelling,\n",
    "        marker='.', markerfacecolor='red', markersize=12)\n",
    "plt.savefig(\"png/lineaire_regressie.png\")"
   ]
  },
  {
   "cell_type": "markdown",
   "metadata": {},
   "source": [
    "We zien dat de voorspellingslijn (in groen) dichtbij de werkelijke waarden van 2010 t/m 2014 liggen"
   ]
  },
  {
   "cell_type": "markdown",
   "metadata": {},
   "source": [
    "### Berekening HBO-ICT\n",
    "De volgende stap is dat we de voorspelling voor HBO ICT gaan maken\n"
   ]
  },
  {
   "cell_type": "code",
   "execution_count": 12,
   "metadata": {},
   "outputs": [
    {
     "name": "stdout",
     "output_type": "stream",
     "text": [
      "Uitgaande van het aantal studenten in 2014: 1629 \n",
      "zijn de voorspelde waarden voor HBO ICT:\n",
      "Jaar 2017: 1908 studenten\n",
      "Jaar 2018: 2004 studenten\n",
      "Jaar 2019: 2101 studenten\n",
      "Onder de voorwaarde dat de landelijke trend zoals deze in de 2010 t/m 2014 zich onverminderd voortzet\n",
      "en dat deze trend exact van toepassing is op de HBO ICT.\n"
     ]
    }
   ],
   "source": [
    "# bepaling van de verhouding tussen tussen landelijk en HBO-ICT\n",
    "land2014 = df.loc[5]['Aantal']\n",
    "verhouding = hboict2014 / land2014\n",
    "\n",
    "print('Uitgaande van het aantal studenten in 2014: {} '.format(hboict2014 ))\n",
    "print('zijn de voorspelde waarden voor HBO ICT:')\n",
    "for i in range(7, 10):\n",
    "    print('Jaar {0}: {1:.0f} studenten'.format(i+2010, voorspelling[i]*verhouding))\n",
    "\n",
    "print('Onder de voorwaarde dat de landelijke trend zoals deze in de 2010 t/m 2014 zich onverminderd voortzet')\n",
    "print('en dat deze trend exact van toepassing is op de HBO ICT.')"
   ]
  },
  {
   "cell_type": "markdown",
   "metadata": {},
   "source": [
    "<b> Einde </b>"
   ]
  }
 ],
 "metadata": {
  "anaconda-cloud": {},
  "kernelspec": {
   "display_name": "Python 3",
   "language": "python",
   "name": "python3"
  },
  "language_info": {
   "codemirror_mode": {
    "name": "ipython",
    "version": 3
   },
   "file_extension": ".py",
   "mimetype": "text/x-python",
   "name": "python",
   "nbconvert_exporter": "python",
   "pygments_lexer": "ipython3",
   "version": "3.6.5"
  }
 },
 "nbformat": 4,
 "nbformat_minor": 1
}
