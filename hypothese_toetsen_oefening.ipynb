{
 "cells": [
  {
   "cell_type": "markdown",
   "metadata": {},
   "source": [
    "# Hypothese testen"
   ]
  },
  {
   "cell_type": "code",
   "execution_count": 1,
   "metadata": {},
   "outputs": [],
   "source": [
    "import numpy as np\n",
    "import matplotlib.pyplot as plt\n",
    "import scipy.stats as stats\n",
    "import scipy as sp\n",
    "\n",
    "%matplotlib inline"
   ]
  },
  {
   "cell_type": "markdown",
   "metadata": {},
   "source": [
    "### Voorbeeld: leessnelheidtest\n"
   ]
  },
  {
   "cell_type": "markdown",
   "metadata": {},
   "source": [
    "#### 1. Stel hypothesen op\n",
    "\n",
    "H0: er is geen verschil ($\\mu_{sansserif} <= \\mu_{populatie}$)\n",
    "\n",
    "H1: er is een verschil ($\\mu_{sansserif} > \\mu_{populatie}$)\n",
    "\n",
    "Er is sprake van een _rechtszijdige_ toets."
   ]
  },
  {
   "cell_type": "markdown",
   "metadata": {},
   "source": [
    "#### 2. Bereken de steekproefstatistieken"
   ]
  },
  {
   "cell_type": "code",
   "execution_count": 2,
   "metadata": {},
   "outputs": [
    {
     "name": "stdout",
     "output_type": "stream",
     "text": [
      "Steekproefgrootte n = 100\n",
      "Steekproefgemiddelde x = 246.00\n",
      "Standaardafwijking steekproef s = 20.00\n"
     ]
    }
   ],
   "source": [
    "n = 100\n",
    "print(\"Steekproefgrootte n = {}\".format(n))\n",
    "x_ = 246\n",
    "print(\"Steekproefgemiddelde x = {:.2f}\".format(x_))\n",
    "s = 20\n",
    "print(\"Standaardafwijking steekproef s = {:.2f}\".format(s))"
   ]
  },
  {
   "cell_type": "code",
   "execution_count": 3,
   "metadata": {},
   "outputs": [
    {
     "name": "stdout",
     "output_type": "stream",
     "text": [
      "gemiddelde populatie 𝜇 = 240.0000\n"
     ]
    }
   ],
   "source": [
    "# populatie\n",
    "mu = 240\n",
    "# sigma is onbekend\n",
    "print(\"gemiddelde populatie 𝜇 = {:.4f}\".format(mu))"
   ]
  },
  {
   "cell_type": "markdown",
   "metadata": {},
   "source": [
    "#### 3. Bepaal de foutmarge\n",
    "\n",
    "Gegeven: $\\alpha = 0.05$\n"
   ]
  },
  {
   "cell_type": "code",
   "execution_count": 4,
   "metadata": {},
   "outputs": [
    {
     "name": "stdout",
     "output_type": "stream",
     "text": [
      "De grens z_waarde is 1.64\n",
      "De grenswaarde is 243.29\n"
     ]
    }
   ],
   "source": [
    "# Bereken grens van de z-waarde bij alpha\n",
    "alpha = 0.05\n",
    "\n",
    "z_grens = stats.norm.ppf((1-alpha) )\n",
    "print(\"De grens z_waarde is {:.2f}\".format(z_grens))\n",
    "grens = z_grens * s/np.sqrt(n) + mu\n",
    "print(\"De grenswaarde is {:.2f}\".format(grens))"
   ]
  },
  {
   "cell_type": "markdown",
   "metadata": {},
   "source": [
    "#### 4. Bereken z-waarde en p-waarde (maak een schets)"
   ]
  },
  {
   "cell_type": "code",
   "execution_count": 5,
   "metadata": {},
   "outputs": [
    {
     "data": {
      "text/plain": [
       "[<matplotlib.lines.Line2D at 0x1f869e9c828>]"
      ]
     },
     "execution_count": 5,
     "metadata": {},
     "output_type": "execute_result"
    },
    {
     "data": {
      "image/png": "[encoded data removed]",
      "text/plain": [
       "<matplotlib.figure.Figure at 0x1f869bacf98>"
      ]
     },
     "metadata": {},
     "output_type": "display_data"
    }
   ],
   "source": [
    "# Schets de verdeling \n",
    "\n",
    "# Standaardfout\n",
    "se = s/np.sqrt(n)\n",
    "\n",
    "# grafiekgebied\n",
    "x = np.linspace(230,250,100)\n",
    "nv = stats.norm(loc=mu, scale=s/np.sqrt(n))   \n",
    "y = nv.pdf(x)\n",
    "\n",
    "plt.figure(figsize=(12,6), dpi=80)\n",
    "plt.plot(x,y)\n",
    "plt.fill_between(x, y, where=(x>grens))\n",
    "\n",
    "# plaats van het steekproefgemiddelde in oranje\n",
    "\n",
    "plt.plot([x_,x_],[0,0.1])"
   ]
  },
  {
   "cell_type": "code",
   "execution_count": 6,
   "metadata": {},
   "outputs": [
    {
     "name": "stdout",
     "output_type": "stream",
     "text": [
      "Standaardfout se = 2.00\n"
     ]
    }
   ],
   "source": [
    "# Standaardfout\n",
    "se = s/np.sqrt(n)\n",
    "se\n",
    "print(\"Standaardfout se = {:.2f}\".format(se))"
   ]
  },
  {
   "cell_type": "code",
   "execution_count": 7,
   "metadata": {},
   "outputs": [
    {
     "name": "stdout",
     "output_type": "stream",
     "text": [
      "De z-waarde (rechts) z = 3.00\n"
     ]
    }
   ],
   "source": [
    "# Bereken z-waarde\n",
    "z = (x_ - mu)/se\n",
    "print(\"De z-waarde (rechts) z = {:.2f}\".format(z))"
   ]
  },
  {
   "cell_type": "code",
   "execution_count": 8,
   "metadata": {},
   "outputs": [
    {
     "name": "stdout",
     "output_type": "stream",
     "text": [
      "De p-waarde p = 0.0013\n"
     ]
    }
   ],
   "source": [
    "# Bereken p-waarde\n",
    "p = 1-stats.norm.cdf(z)\n",
    "print(\"De p-waarde p = {:.4f}\".format(p))"
   ]
  },
  {
   "cell_type": "markdown",
   "metadata": {},
   "source": [
    "#### 5. Conclusie\n",
    "\n",
    "Er geldt $p = 0.0013 < \\alpha = 0.05$.\n",
    "\n",
    "Dat p = 0.0013 betekent dat deze uitkomst niet door toeval kan plaatsvinden, \n",
    "dus we verwerpen $H_0$ en aanvaarden $H_A$: er is dus een significant verschil in leessnelheid."
   ]
  },
  {
   "cell_type": "markdown",
   "metadata": {},
   "source": [
    "### Hypothesetest IQ\n",
    "\n",
    "Het IQ van de moeders van 36 hoogbegaafde kinderen is gemeten met een IQ-test. Is er een significant (>1%) verschil in IQ met het gemiddelde IQ van de Nederlandse populatie (gemiddeld IQ is 100)? "
   ]
  },
  {
   "cell_type": "code",
   "execution_count": 9,
   "metadata": {},
   "outputs": [
    {
     "data": {
      "text/plain": [
       "array([101, 106, 108, 109, 111, 112, 113, 113, 114, 114, 114, 115, 116,\n",
       "       116, 117, 117, 118, 118, 118, 119, 119, 119, 119, 119, 119, 120,\n",
       "       123, 123, 123, 123, 124, 124, 127, 129, 130, 131])"
      ]
     },
     "execution_count": 9,
     "metadata": {},
     "output_type": "execute_result"
    }
   ],
   "source": [
    "iq = np.array([101,\n",
    "          106,108,109,\n",
    "          111,112,113,113,114,114,114,\n",
    "          115,116,116,117,117,118,118,\n",
    "          118,119,119,119,119,119,119,\n",
    "          120,123,123,123,123,124,124,\n",
    "          127,129,130,\n",
    "          131])\n",
    "iq"
   ]
  },
  {
   "cell_type": "markdown",
   "metadata": {},
   "source": [
    "#### 1. Stel hypothesen op\n",
    "\n",
    "H0: \n",
    "\n",
    "H1:\n",
    "\n",
    "Er is sprake van een _??-zijdige_ toets."
   ]
  },
  {
   "cell_type": "markdown",
   "metadata": {},
   "source": [
    "#### 2. Bereken de steekproefstatistieken"
   ]
  },
  {
   "cell_type": "code",
   "execution_count": null,
   "metadata": {},
   "outputs": [],
   "source": []
  },
  {
   "cell_type": "markdown",
   "metadata": {},
   "source": [
    "#### 3. Bepaal de foutmarge\n",
    "\n",
    "$\\alpha = $\n"
   ]
  },
  {
   "cell_type": "code",
   "execution_count": null,
   "metadata": {},
   "outputs": [],
   "source": [
    "# Bereken grens van de z-waarde bij alpha"
   ]
  },
  {
   "cell_type": "markdown",
   "metadata": {},
   "source": [
    "#### 4. Bereken z-waarde en p-waarde (maak een schets)"
   ]
  },
  {
   "cell_type": "code",
   "execution_count": 10,
   "metadata": {},
   "outputs": [],
   "source": [
    "# Schets de verdeling "
   ]
  },
  {
   "cell_type": "code",
   "execution_count": 11,
   "metadata": {},
   "outputs": [],
   "source": [
    "# Standaardfout"
   ]
  },
  {
   "cell_type": "code",
   "execution_count": 12,
   "metadata": {},
   "outputs": [],
   "source": [
    "# Bereken z-waarde"
   ]
  },
  {
   "cell_type": "code",
   "execution_count": 13,
   "metadata": {},
   "outputs": [],
   "source": [
    "# Bereken p-waarde"
   ]
  },
  {
   "cell_type": "markdown",
   "metadata": {
    "collapsed": true
   },
   "source": [
    "#### 5. Conclusie\n",
    "\n",
    "Er geldt ..."
   ]
  },
  {
   "cell_type": "markdown",
   "metadata": {},
   "source": [
    "### Hematocriettest HT\n",
    "\n",
    "Bij wielrenner wordt een startverbod opgelegd bij een te hoge hematocriet(HT) waarde. \n",
    "- De grens is 0.50. \n",
    "- De standaarddeviatie $\\sigma$ is 0.05\n",
    "- Betrouwbaarheid: 10%"
   ]
  },
  {
   "cell_type": "code",
   "execution_count": 14,
   "metadata": {},
   "outputs": [
    {
     "data": {
      "text/plain": [
       "array([0.51, 0.51, 0.52, 0.5 , 0.53, 0.5 , 0.51, 0.5 , 0.51, 0.52])"
      ]
     },
     "execution_count": 14,
     "metadata": {},
     "output_type": "execute_result"
    }
   ],
   "source": [
    "ht = np.array([0.51, 0.51, 0.52, 0.50, 0.53, 0.50, 0.51, 0.50, 0.51, 0.52])\n",
    "ht"
   ]
  },
  {
   "cell_type": "markdown",
   "metadata": {},
   "source": [
    "#### 1. Stel hypothesen op\n",
    "\n",
    "H0: \n",
    "\n",
    "H1:\n",
    "\n",
    "Er is sprake van een _??-zijdige_ toets."
   ]
  },
  {
   "cell_type": "markdown",
   "metadata": {},
   "source": [
    "#### 2. Bereken de steekproefstatistieken"
   ]
  },
  {
   "cell_type": "code",
   "execution_count": null,
   "metadata": {},
   "outputs": [],
   "source": []
  },
  {
   "cell_type": "markdown",
   "metadata": {},
   "source": [
    "#### 3. Bepaal de foutmarge\n",
    "\n",
    "$\\alpha = $\n"
   ]
  },
  {
   "cell_type": "code",
   "execution_count": null,
   "metadata": {},
   "outputs": [],
   "source": [
    "# Bereken grens van de z-waarde bij alpha"
   ]
  },
  {
   "cell_type": "markdown",
   "metadata": {},
   "source": [
    "#### 4. Bereken z-waarde en p-waarde (maak een schets)"
   ]
  },
  {
   "cell_type": "code",
   "execution_count": 15,
   "metadata": {},
   "outputs": [],
   "source": [
    "# Schets de verdeling"
   ]
  },
  {
   "cell_type": "code",
   "execution_count": 16,
   "metadata": {},
   "outputs": [],
   "source": [
    "# Standaardfout"
   ]
  },
  {
   "cell_type": "code",
   "execution_count": 17,
   "metadata": {},
   "outputs": [],
   "source": [
    "# Bereken z-waarde"
   ]
  },
  {
   "cell_type": "code",
   "execution_count": 18,
   "metadata": {},
   "outputs": [],
   "source": [
    "# Bereken p-waarde"
   ]
  },
  {
   "cell_type": "markdown",
   "metadata": {},
   "source": [
    "#### 5. Conclusie\n",
    "\n",
    "Er geldt ..."
   ]
  },
  {
   "cell_type": "markdown",
   "metadata": {},
   "source": [
    "### CITO\n",
    "\n",
    "Halen de leerlingen een betere CITO score\n",
    "- Populatie gemiddelde: 400\n",
    "- Populatie standdaarddeviatie: 100\n"
   ]
  },
  {
   "cell_type": "code",
   "execution_count": 19,
   "metadata": {},
   "outputs": [
    {
     "data": {
      "text/plain": [
       "array([434, 694, 457, 534, 720, 400, 484, 478, 610, 641, 425, 636, 454,\n",
       "       514, 563, 370, 499, 640, 501, 625, 612, 471, 598, 509, 531])"
      ]
     },
     "execution_count": 19,
     "metadata": {},
     "output_type": "execute_result"
    }
   ],
   "source": [
    "cito = np.array([434,694,457,534,720,400,484,478,\n",
    "               610,641,425,636,454,514,563,370,\n",
    "               499,640,501,625,612,471,598,509,531])\n",
    "cito"
   ]
  },
  {
   "cell_type": "markdown",
   "metadata": {},
   "source": [
    "#### 1. Stel hypothesen op\n",
    "\n",
    "H0: \n",
    "\n",
    "H1:\n",
    "\n",
    "Er is sprake van een _??-zijdige_ toets."
   ]
  },
  {
   "cell_type": "markdown",
   "metadata": {},
   "source": [
    "#### 2. Bereken de steekproefstatistieken"
   ]
  },
  {
   "cell_type": "code",
   "execution_count": null,
   "metadata": {},
   "outputs": [],
   "source": []
  },
  {
   "cell_type": "markdown",
   "metadata": {},
   "source": [
    "#### 3. Bepaal de foutmarge\n",
    "\n",
    "$\\alpha = $\n"
   ]
  },
  {
   "cell_type": "code",
   "execution_count": 20,
   "metadata": {},
   "outputs": [],
   "source": [
    "# Bereken de grens van de z-waarde"
   ]
  },
  {
   "cell_type": "markdown",
   "metadata": {},
   "source": [
    "#### 4. Bereken z-waarde en p-waarde (maak een schets)"
   ]
  },
  {
   "cell_type": "code",
   "execution_count": 21,
   "metadata": {},
   "outputs": [],
   "source": [
    "# Schets de verdeling "
   ]
  },
  {
   "cell_type": "code",
   "execution_count": 22,
   "metadata": {},
   "outputs": [],
   "source": [
    "# Standaardfout"
   ]
  },
  {
   "cell_type": "code",
   "execution_count": 23,
   "metadata": {},
   "outputs": [],
   "source": [
    "# Bereken z-waarde"
   ]
  },
  {
   "cell_type": "code",
   "execution_count": 24,
   "metadata": {},
   "outputs": [],
   "source": [
    "# Bereken p-waarde"
   ]
  },
  {
   "cell_type": "markdown",
   "metadata": {},
   "source": [
    "#### 5. Conclusie\n",
    "\n",
    "Er geldt ..."
   ]
  }
 ],
 "metadata": {
  "kernelspec": {
   "display_name": "Python 3",
   "language": "python",
   "name": "python3"
  },
  "language_info": {
   "codemirror_mode": {
    "name": "ipython",
    "version": 3
   },
   "file_extension": ".py",
   "mimetype": "text/x-python",
   "name": "python",
   "nbconvert_exporter": "python",
   "pygments_lexer": "ipython3",
   "version": "3.6.4"
  }
 },
 "nbformat": 4,
 "nbformat_minor": 2
}
