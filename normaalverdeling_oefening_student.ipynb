{
 "cells": [
  {
   "cell_type": "markdown",
   "metadata": {},
   "source": [
    "# Normale verdeling\n"
   ]
  },
  {
   "cell_type": "code",
   "execution_count": null,
   "metadata": {},
   "outputs": [],
   "source": [
    "import numpy as np\n",
    "import scipy.stats as stats"
   ]
  },
  {
   "cell_type": "markdown",
   "metadata": {},
   "source": [
    "## Voorbeeld Bananen "
   ]
  },
  {
   "cell_type": "code",
   "execution_count": null,
   "metadata": {},
   "outputs": [],
   "source": [
    "# Berekening van waarde naar kans\n",
    "mu, sigma = 50, 7.5\n",
    "\n",
    "# scipy.stats functies\n",
    "nv = stats.norm(loc=mu,scale=sigma)\n",
    "print(nv.cdf(mu - 1.96*sigma))   # 35,3 gram\n",
    "print(nv.cdf(mu + 1.96*sigma))   # 64,7 gram\n",
    "print(nv.cdf(mu + 1.96*sigma) - nv.cdf(mu - 1.96*sigma)) # tussen 35,3 en 64,7 gram"
   ]
  },
  {
   "cell_type": "markdown",
   "metadata": {},
   "source": [
    "## Oefening normale verdeling - bananen\n",
    "\n",
    "Kansverdeling bananen, met:\n",
    "\n",
    "- µ = ‘mu’ = gemiddelde = 50 gr\n",
    "- σ = ‘sigma’ = standaard deviatie = 7,5 gram\n",
    "\n",
    "Bepaal zelf: \n",
    "- 90% weegt tussen de …… en …... gram\n",
    "- 99% weegt tussen de …… en …… gram \n",
    "- 5% weegt meer dan …… gram\n",
    "- 5% weegt minder dan …… gram\n",
    "- 95% weegt minder dan …… gram"
   ]
  },
  {
   "cell_type": "code",
   "execution_count": null,
   "metadata": {
    "tags": [
     "student"
    ]
   },
   "outputs": [],
   "source": [
    " "
   ]
  },
  {
   "cell_type": "markdown",
   "metadata": {},
   "source": [
    "# Oefening normale verdeling - bananen\n",
    "\n",
    "Kansverdeling bananen, met µ = 50 gram en σ = 7,5 gram\n",
    "\n",
    "Bereken met de functies van `scipy.stats`:\n",
    "\n",
    "- 5% weegt minder dan … gram\n",
    "- 90% weegt tussen de … en … gram\n",
    "- …% weegt meer dan 40 gram\n",
    "- …% weegt tussen de 61 en 73 gram"
   ]
  },
  {
   "cell_type": "code",
   "execution_count": null,
   "metadata": {
    "tags": [
     "student"
    ]
   },
   "outputs": [],
   "source": [
    " "
   ]
  },
  {
   "cell_type": "markdown",
   "metadata": {},
   "source": [
    "## 6.1 (Reus) - T-shirts\n",
    "\n",
    "Uitwerking van de Canvas-opdracht (6.1 uit Reus)."
   ]
  },
  {
   "cell_type": "code",
   "execution_count": null,
   "metadata": {
    "tags": [
     "student"
    ]
   },
   "outputs": [],
   "source": [
    " "
   ]
  },
  {
   "cell_type": "markdown",
   "metadata": {
    "tags": [
     "student"
    ]
   },
   "source": [
    " "
   ]
  },
  {
   "cell_type": "code",
   "execution_count": null,
   "metadata": {
    "tags": [
     "student"
    ]
   },
   "outputs": [],
   "source": [
    " "
   ]
  }
 ],
 "metadata": {
  "celltoolbar": "Tags",
  "kernelspec": {
   "display_name": "Python 3",
   "language": "python",
   "name": "python3"
  },
  "language_info": {
   "codemirror_mode": {
    "name": "ipython",
    "version": 3
   },
   "file_extension": ".py",
   "mimetype": "text/x-python",
   "name": "python",
   "nbconvert_exporter": "python",
   "pygments_lexer": "ipython3",
   "version": "3.6.5"
  }
 },
 "nbformat": 4,
 "nbformat_minor": 2
}
